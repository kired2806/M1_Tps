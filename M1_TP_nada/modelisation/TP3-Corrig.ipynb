{
 "cells": [
  {
   "cell_type": "markdown",
   "metadata": {},
   "source": [
    "# TP3: Regression linéaire\n",
    "\n",
    "En fin de séance, votre TP devra être déposé sur le dépot:\n",
    "https://synapse.math.univ-toulouse.fr/s/1uSrSRmU16iz9aj\n",
    "\n",
    "On considère le modèle de regression simple\n",
    "$$ Y_i = X_i \\theta + \\varepsilon_i \\ ,$$\n",
    "où $i=1, 2, \\dots, n$. Les variables de bruit $\\varepsilon_i$ sont iid normales centrées de variance $\\sigma^2$.\n",
    "\n",
    "On réécrit le tout matriciellement sous la forme\n",
    "$$ \\mathbb{Y} = \\mathbb{X} \\Theta + \\varepsilon \\ ,$$\n",
    "avec\n",
    "- $\\mathbb{Y} \\in \\mathbb{R}^n \\approx M_{n,1}(\\mathbb{R})$\n",
    "- $\\Theta \\in \\mathbb{R}^k \\approx M_{k,1}(\\mathbb{R})$\n",
    "- $\\mathbb{X} \\in M_{n,k}(\\mathbb{R})$\n",
    "- $\\varepsilon \\in \\mathbb{R}^n$\n"
   ]
  },
  {
   "cell_type": "markdown",
   "metadata": {},
   "source": [
    "## I. Déclaration de modules et de datasets"
   ]
  },
  {
   "cell_type": "code",
   "execution_count": 79,
   "metadata": {},
   "outputs": [],
   "source": [
    "import numpy as np"
   ]
  },
  {
   "cell_type": "code",
   "execution_count": 80,
   "metadata": {},
   "outputs": [],
   "source": [
    "# Echantillon A: Hours travaillées vs Score du SAT\n",
    "# Xa = Nombre d'heures travaillées\n",
    "# Ya = Scores\n",
    "Xa = np.array( [   4,   9,  10,  14,   4,   7,  12,  22,   1,   3,   8,  11,   5,   6,  10,  11,  16,  13,  13,  10] )\n",
    "Ya = np.array( [ 390, 580, 650, 730, 410, 530, 600, 790, 350, 400, 590, 640, 450, 520, 690, 690, 770, 700, 730, 640] )\n",
    "\n",
    "# Echantillon B: Activité du criquet (battements d'aile par seconde) vs température \n",
    "# Xb = Température en degrés celcius\n",
    "# Yb = Battements\n",
    "Xb2 = np.array( [   88.6, 71.6, 93.3, 84.3, 80.6, 75.2, 69.7, 71.6, 69.4, 83.3, 79.6, 82.6, 80.6, 83.5, 76.3] ) #En Fahrenheit\n",
    "Xb  = np.array( (Xb2-32.0)*5.0/9.0 )\n",
    "Yb  = np.array( [   20.0, 16.0, 19.8, 18.4, 17.1, 15.5, 14.7, 15.7, 15.4, 16.3, 15.0, 17.2, 16.0, 17.0, 14.4] )\n",
    "\n",
    "# Echantillon C: Revenus, Chomage et criminalité de villes américaines\n",
    "# Xc1 = Population totale de la ville (en milliers)\n",
    "# Xc2 = Pourcentage des foyers avec un revenu < 5000$ par an\n",
    "# Xc3 = Pourcentage chomage\n",
    "# Yc = Meutres par année par 100000 habitants\n",
    "Xc1 = np.array( [587000, 643000, 635000, 692000, 1248000, 643000, 1964000, 1531000, 713000, 749000, 7895000, 762000, 2793000, 741000, 625000, 854000, 716000, 921000, 595000, 3353000.] )/1e3\n",
    "Xc2 = np.array( [  16.5,   20.5,   26.3,  16.5 ,    19.2,  16.5 ,    20.2,    21.3,   17.2,  14.3 ,   18.1 ,  23.1 ,   19.1 ,  24.7 ,  18.6 ,   24.9,  17.9 ,  22.4 ,   20.2, 16.9] )\n",
    "Xc3 = np.array( [   6.2,    6.4,    9.3,    5.3,     7.3,    5.9,     6.4,     7.6,    4.9,    6.4,      6 ,    7.4,     5.8,    8.6,  6.5  ,    8.3,   6.7 ,   8.6 ,    8.4, 6.7 ] )\n",
    "Yc  = np.array( [ 11.2, 13.4, 40.7,  5.3, 24.8, 12.7, 20.9, 35.7, 8.7, 9.6, 14.5, 26.9, 15.7, 36.2, 18.1, 28.9, 14.9, 25.8, 21.7, 25.7] )"
   ]
  },
  {
   "cell_type": "markdown",
   "metadata": {},
   "source": [
    "## II. Nuages de points"
   ]
  },
  {
   "cell_type": "markdown",
   "metadata": {},
   "source": [
    "Exercice 1:\n",
    "- Donner les plots (en 2D) des échantillons A & B.\n",
    "- Commenter la corrélation percue.\n",
    "- Pensez-vous que le modèle linéaire soit une bonne approximation? Sinon, dans quels régimes en particulier?"
   ]
  },
  {
   "cell_type": "code",
   "execution_count": 81,
   "metadata": {
    "scrolled": false
   },
   "outputs": [
    {
     "data": {
      "image/png": "[encoded data removed]",
      "text/plain": [
       "<Figure size 432x288 with 1 Axes>"
      ]
     },
     "metadata": {
      "needs_background": "light"
     },
     "output_type": "display_data"
    },
    {
     "data": {
      "image/png": "[encoded data removed]",
      "text/plain": [
       "<Figure size 432x288 with 1 Axes>"
      ]
     },
     "metadata": {
      "needs_background": "light"
     },
     "output_type": "display_data"
    }
   ],
   "source": [
    "import matplotlib.pyplot as plt\n",
    "\n",
    "plt.plot(Xa, Ya, '*')\n",
    "plt.title(\"Nombre d'heures travaillées vs SAT\")\n",
    "plt.show()\n",
    "\n",
    "plt.plot(Xb, Yb, '*')\n",
    "plt.title(\"Activité de criquet vs temperature\")\n",
    "plt.xlabel(\"T (°C)\")\n",
    "plt.show()\n"
   ]
  },
  {
   "cell_type": "markdown",
   "metadata": {},
   "source": [
    "## III. Implémentation de la régression\n",
    "Exercice 2:\n",
    "Pour les trois datasets\n",
    "- Calculer l'estimateur MCO de $\\Theta$ en utilisant directement la formule vue en cours.\n",
    "- Commenter la valeur de $\\Theta_1$\n",
    "- Tracer un histogramme des résidus\n",
    "- Calculer le coefficient de détermination $R^2$ et commenter la qualité de la régression\n",
    "\n",
    "Pour les datasets A & B, on tracera la droite des valeurs ajustées."
   ]
  },
  {
   "cell_type": "code",
   "execution_count": 82,
   "metadata": {},
   "outputs": [
    {
     "name": "stdout",
     "output_type": "stream",
     "text": [
      "--------------------------------\n",
      "Echantillon A\n",
      "OLS :  [353.1648795   25.32646778]\n",
      "R2  :  0.8716192582293921\n"
     ]
    },
    {
     "data": {
      "image/png": "[encoded data removed]",
      "text/plain": [
       "<Figure size 432x288 with 1 Axes>"
      ]
     },
     "metadata": {
      "needs_background": "light"
     },
     "output_type": "display_data"
    },
    {
     "name": "stdout",
     "output_type": "stream",
     "text": [
      "--------------------------------\n",
      "Echantillon B\n",
      "OLS :  [6.95530605 0.36539952]\n",
      "R2  :  0.6922946529146851\n"
     ]
    },
    {
     "data": {
      "image/png": "[encoded data removed]",
      "text/plain": [
       "<Figure size 432x288 with 1 Axes>"
      ]
     },
     "metadata": {
      "needs_background": "light"
     },
     "output_type": "display_data"
    },
    {
     "name": "stdout",
     "output_type": "stream",
     "text": [
      "--------------------------------\n",
      "Echantillon C\n",
      "OLS :  [-3.67649253e+01  7.62936937e-04  1.19217421e+00  4.71982137e+00]\n",
      "R2  :  0.8183178658153271\n"
     ]
    },
    {
     "data": {
      "image/png": "[encoded data removed]",
      "text/plain": [
       "<Figure size 432x288 with 1 Axes>"
      ]
     },
     "metadata": {
      "needs_background": "light"
     },
     "output_type": "display_data"
    }
   ],
   "source": [
    "def OLS_estimator(X,Y):\n",
    "    res = np.dot( X.transpose(), X)\n",
    "    res = np.linalg.inv( res )\n",
    "    res = np.dot( res, X.transpose() )\n",
    "    res = np.dot( res, Y)\n",
    "    return  res\n",
    "\n",
    "def R2_coeff(Y_hat, Y):\n",
    "    n1 = np.linalg.norm(Y_hat-np.mean(Y_hat))\n",
    "    n2 = np.linalg.norm(Y-np.mean(Y))\n",
    "    return (n1/n2)**2\n",
    "\n",
    "def analysis(X,Y):\n",
    "    theta = OLS_estimator(X,Y)\n",
    "    Y_hat = np.dot(X, theta)\n",
    "    R2 = R2_coeff(Y_hat, Y)\n",
    "    print(\"OLS : \", theta)\n",
    "    print(\"R2  : \", R2)\n",
    "    \n",
    "    epsilon_hat = Y-Y_hat\n",
    "    plt.hist(epsilon_hat, bins=5)\n",
    "    plt.title(\"Histogramme des résidus\")\n",
    "    plt.show()\n",
    "    return\n",
    "\n",
    "\n",
    "intercept = np.ones(Ya.shape)\n",
    "X = np.stack( [intercept, Xa], axis=1 )\n",
    "Y = Ya\n",
    "print(\"--------------------------------\")\n",
    "print(\"Echantillon A\")\n",
    "analysis(X,Y)\n",
    "\n",
    "intercept = np.ones(Yb.shape)\n",
    "X = np.stack( [intercept, Xb], axis=1 )\n",
    "Y = Yb\n",
    "print(\"--------------------------------\")\n",
    "print(\"Echantillon B\")\n",
    "analysis(X,Y)\n",
    "\n",
    "intercept = np.ones(Yc.shape)\n",
    "X = np.stack( [intercept, Xc1, Xc2, Xc3], axis=1 )\n",
    "Y = Yc\n",
    "print(\"--------------------------------\")\n",
    "print(\"Echantillon C\")\n",
    "analysis(X,Y)"
   ]
  },
  {
   "cell_type": "markdown",
   "metadata": {},
   "source": [
    "## IV. Réduction du modèle\n",
    "\n",
    "Dans le cas de l'échantillon C, on se demande quels sont les facteurs pertinents pour la variable $Y$ et lequels nous pouvons ignorer.\n",
    "\n",
    "Exercice 3:\n",
    "Pour l'échantillon C uniquement\n",
    "- Préciser selon votre intuition, le classement des facteurs, du plus pertinent au moins pertinent.\n",
    "- Faites une regression de Y contre chacun des facteurs, et calculer les R2 partiels. Interpréter.\n",
    "- Test d'hypothèse: Considérons l'hypothèse \"$H_0: \\Theta_j = 0\"$. Construire une statistique suivant une loi de Student avec paramètre $n-k$ en divisant $\\widehat{\\Theta}_j$ par une variance empirique convenable.\n",
    "Ensuite calculer la p-value associée en utilisant: \n",
    "https://docs.scipy.org/doc/scipy-0.14.0/reference/generated/scipy.stats.t.html\n",
    "- Conclure vis-à-vis de la pertinence des facteurs. Est-ce que les grandes villes sont plus dangereuses? Est-ce que le chomage est plus pertinent que la richesse?\n",
    "\n",
    "Rappelons que la p-value est la probabilité d'observer un évennement aussi extrême que ce que l'on a. Ainsi on pourra utiliser les lignes suivantes:\n",
    "~~~~\n",
    "p = stats.t.cdf(T_statistic,df=degrees_of_freedom)\n",
    "q = 1-p\n",
    "print(\"p-value:\", min(p,q))\n",
    "~~~~"
   ]
  },
  {
   "cell_type": "code",
   "execution_count": 83,
   "metadata": {},
   "outputs": [
    {
     "name": "stdout",
     "output_type": "stream",
     "text": [
      "Partial R2\n",
      "Factor 1: 0.004502194864407687\n",
      "Factor 2: 0.7052275058037365\n",
      "Factor 3: 0.7479507451480636\n"
     ]
    }
   ],
   "source": [
    "# R2 partiels\n",
    "intercept = np.ones(Yc.shape)\n",
    "factors = [Xc1, Xc2, Xc3]\n",
    "print(\"Partial R2\")\n",
    "for index in range( len(factors) ):\n",
    "    x = factors[index]\n",
    "    X = np.stack( [intercept, x], axis=1 )\n",
    "    Y = Yc\n",
    "    partial_theta = OLS_estimator(X,Y)\n",
    "    Y_hat = np.dot(X, partial_theta)\n",
    "    R2 = R2_coeff(Y_hat, Y)\n",
    "    print(\"Factor %d:\"%(index+1), R2)"
   ]
  },
  {
   "cell_type": "code",
   "execution_count": 85,
   "metadata": {},
   "outputs": [
    {
     "name": "stdout",
     "output_type": "stream",
     "text": [
      "Index: 0\n",
      "Theta: -36.7649252820069\n",
      "T-statistique: -8.010174287737696\n",
      "p-value: 2.727367470185654e-07\n",
      "\n",
      "Index: 1\n",
      "Theta: 0.0007629369368511699\n",
      "T-statistique: 0.00016622522112730924\n",
      "p-value: 0.4999347131779346\n",
      "\n",
      "Index: 2\n",
      "Theta: 1.1921742108294613\n",
      "T-statistique: 0.25974548123898283\n",
      "p-value: 0.39918640050784826\n",
      "\n",
      "Index: 3\n",
      "Theta: 4.719821371873402\n",
      "T-statistique: 1.028333160089355\n",
      "p-value: 0.15954451092459687\n",
      "\n"
     ]
    }
   ],
   "source": [
    "# Test de student\n",
    "from scipy import stats\n",
    "\n",
    "Y = Yc\n",
    "n = Y.shape\n",
    "X = np.stack( [intercept, Xc1, Xc2, Xc3], axis=1 )\n",
    "n,k = X.shape\n",
    "\n",
    "theta = OLS_estimator(X,Y)\n",
    "Y_hat = np.dot(X, theta)\n",
    "epsilon_hat = Y-Y_hat\n",
    "s2    = np.linalg.norm(epsilon_hat)**2/(n-k)\n",
    "\n",
    "for j in range(k):\n",
    "    print(\"Index:\", j)\n",
    "    print(\"Theta:\", theta[j])\n",
    "    T = theta[j]/np.sqrt(s2)\n",
    "    print(\"T-statistique:\", T)\n",
    "    p = stats.t.cdf(T,df=n-k)\n",
    "    q = 1-p\n",
    "    print(\"p-value:\", min(p,q))\n",
    "    print(\"\")\n"
   ]
  },
  {
   "cell_type": "code",
   "execution_count": null,
   "metadata": {},
   "outputs": [],
   "source": [
    "from scipy import stats \n",
    "Y = Yc \n",
    "X = np.stack([np.ones(Y.shape),Xc1,Xc2,Xc3],axis=1)\n",
    "\n",
    "theta = OLS_estimator(X,Y)\n",
    "\n",
    "Y_est = X.dot(theta)\n",
    "\n",
    "err = Y-Y_est\n",
    "\n",
    "s = np.linalg.norm(err)**2/(n-k*err.std())\n",
    "\n",
    "for i range(len(theta)) : \n",
    "    print(f'variable {i}')\n",
    "    T = theta[i]/np.sqrt(s)\n",
    "    p = stats.t.cdf(T,df=n-k)\n",
    "    p_value = min(p,1-p) \n",
    "    print('T_statistic',T)\n",
    "    print('the p-value',p_values)\n",
    "    "
   ]
  },
  {
   "cell_type": "code",
   "execution_count": null,
   "metadata": {},
   "outputs": [],
   "source": []
  }
 ],
 "metadata": {
  "kernelspec": {
   "display_name": "Python 3",
   "language": "python",
   "name": "python3"
  },
  "language_info": {
   "codemirror_mode": {
    "name": "ipython",
    "version": 3
   },
   "file_extension": ".py",
   "mimetype": "text/x-python",
   "name": "python",
   "nbconvert_exporter": "python",
   "pygments_lexer": "ipython3",
   "version": "3.7.3"
  }
 },
 "nbformat": 4,
 "nbformat_minor": 2
}
