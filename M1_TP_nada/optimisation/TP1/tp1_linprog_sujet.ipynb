{
 "cells": [
  {
   "cell_type": "markdown",
   "metadata": {},
   "source": [
    "# Optimisation linéaire\n",
    "\n",
    "On s'intéresse à la résolution de problèmes d'optimisation de la forme \n",
    "\n",
    "$$\n",
    "\\begin{array}{l}\n",
    "\\min c^\\top x\n",
    "\\\\\n",
    "\\mbox{sous les contraintes :}\n",
    "\\\\\n",
    "x\\in{\\mathbb{R}}^n\n",
    "\\\\\n",
    "A_I x \\leq b_I\n",
    "\\\\\n",
    "A_E x = b_E\n",
    "\\end{array}\n",
    "$$\n",
    "\n",
    "Pour résoudre de tels problèmes en Python, il est possible d'utiliser la fonction **linprog** de la librairie **scipy.optimize**.\n",
    "\n",
    "Pour savoir comment fonctionne cette fonction, vous êtes invités à effectuer le bloc suivant et à lire attentivement la documentation de cette fonction."
   ]
  },
  {
   "cell_type": "code",
   "execution_count": 8,
   "metadata": {},
   "outputs": [],
   "source": [
    "from scipy.optimize import minimize\n",
    "import numpy as np"
   ]
  },
  {
   "cell_type": "code",
   "execution_count": 12,
   "metadata": {},
   "outputs": [],
   "source": [
    "from scipy.optimize import linprog\n",
    "?linprog"
   ]
  },
  {
   "cell_type": "markdown",
   "metadata": {},
   "source": [
    "# Exercice 1 - Problème d'allocation de production\n",
    "\n",
    "La société Ekea, fabricant de meubles, produit 2 types de canapés : le canapé normal et le canapé version longue. Ekea a 2 usines en France, Ekea Nord et Ekea Sud. Les données suivantes ont été données par le contrôle de gestion de la société :\n",
    "\n",
    "|                                       |   Ekea Nord |    Ekea Sud |\n",
    "|---------------------------------------|-------------|-------------|\n",
    "| Budget opérationnel journalier        | 45000 euros | 36000 euros |\n",
    "| Capacité de production journalière    | 300 canapés | 250 canapés |\n",
    "| Coût de production d'un canapé normal |   150 euros |   135 euros |\n",
    "| Coût de production d'un canapé long   |   200 euros |   180 euros |\n",
    "\n",
    "La marge effectuée par Ekea est de 50 euros sur les canapés normaux et de 70 euros sur les canapés longs. D'autre part, Ekea souhaite ne pas produire quotidiennement plus de 250 canapés normaux et 350 canapés longs.\n",
    "\n",
    "\n",
    "Notons \n",
    "+ x_0 le nombre de canapés normaux produits à Ekea Nord,\n",
    "+ x_1 le nombre de canapés longs produits à Ekea Nord,\n",
    "+ x_2 le nombre de canapés normaux produits à Ekea Sud,\n",
    "+ x_3 le nombre de canapés longs produits à Ekea Sud.\n",
    "\n",
    "Le profit réalisé s'écrit donc $$p(x) = c^\\top x,$$\n",
    "avec $c^\\top = (50,70,50,70)$.\n",
    "\n",
    "Les contraintes s'écrivent\n",
    "+ pour les limites sur le budget : \n",
    "    + pour Ekea Nord : $150 x_0 + 200 x_1 \\leq 45000$\n",
    "    + pour Ekea Sud  : $135 x_2 + 180 x_3 \\leq 36000$ ; \n",
    "+ pour les contraintes de capacité : \n",
    "    + pour Ekea Nord : $x_0 + x_1 \\leq 300$\n",
    "    + pour Ekea Sud  : $x_2 + x_3 \\leq 250$ ; \n",
    "    + pour les deux usines : $x_0+x_2 \\leq 250$ et $x_1+x_3 \\leq 350$ ;\n",
    "+ pour la positivité des quantités : $x_i \\geq 0$ pour tout $i \\in\\{0, 1, 2, 3\\}$.\n",
    "\n",
    "Ecrire la fonction objectif et les contraintes sous la forme matricielle adaptée pour pouvoir appeler **linprog** et répondre à la question suivante.\n",
    "\n",
    "Quelles quantités journalières de canapés de chaque type doivent être produites à Ekea Nord et Ekea Sud pour maximiser son profit ?"
   ]
  },
  {
   "cell_type": "code",
   "execution_count": 10,
   "metadata": {},
   "outputs": [
    {
     "name": "stdout",
     "output_type": "stream",
     "text": [
      "Primal Feasibility  Dual Feasibility    Duality Gap         Step             Path Parameter      Objective          \n",
      "1.0                 1.0                 1.0                 -                1.0                 -240.0              \n",
      "0.0968634711432     0.0968634711432     0.09686347114324    0.9116467818905  0.09686347114319    -2943.195469403     \n",
      "0.01000315532315    0.0100031553233     0.01000315532331    0.8992525644903  0.01000315532813    -16098.21263037     \n",
      "0.001841412379601   0.001841412379627   0.001841412379628   0.8355714703102  0.001841412380433   -26062.25861993     \n"
     ]
    },
    {
     "ename": "TypeError",
     "evalue": "unsupported format string passed to numpy.ndarray.__format__",
     "output_type": "error",
     "traceback": [
      "\u001b[1;31m---------------------------------------------------------------------------\u001b[0m",
      "\u001b[1;31mTypeError\u001b[0m                                 Traceback (most recent call last)",
      "\u001b[1;32m<ipython-input-10-84c9d7c6e6ed>\u001b[0m in \u001b[0;36m<module>\u001b[1;34m()\u001b[0m\n\u001b[0;32m      2\u001b[0m \u001b[0mA\u001b[0m \u001b[1;33m=\u001b[0m \u001b[0mnp\u001b[0m\u001b[1;33m.\u001b[0m\u001b[0marray\u001b[0m\u001b[1;33m(\u001b[0m\u001b[1;33m[\u001b[0m\u001b[1;33m[\u001b[0m\u001b[1;36m150\u001b[0m\u001b[1;33m,\u001b[0m\u001b[1;36m200\u001b[0m\u001b[1;33m,\u001b[0m\u001b[1;36m0\u001b[0m\u001b[1;33m,\u001b[0m\u001b[1;36m0\u001b[0m\u001b[1;33m]\u001b[0m\u001b[1;33m,\u001b[0m \u001b[1;33m[\u001b[0m\u001b[1;36m0\u001b[0m\u001b[1;33m,\u001b[0m\u001b[1;36m0\u001b[0m\u001b[1;33m,\u001b[0m\u001b[1;36m135\u001b[0m\u001b[1;33m,\u001b[0m\u001b[1;36m180\u001b[0m\u001b[1;33m]\u001b[0m\u001b[1;33m,\u001b[0m\u001b[1;33m[\u001b[0m\u001b[1;36m1\u001b[0m\u001b[1;33m,\u001b[0m\u001b[1;36m1\u001b[0m\u001b[1;33m,\u001b[0m\u001b[1;36m0\u001b[0m\u001b[1;33m,\u001b[0m\u001b[1;36m0\u001b[0m\u001b[1;33m]\u001b[0m\u001b[1;33m,\u001b[0m\u001b[1;33m[\u001b[0m\u001b[1;36m0\u001b[0m\u001b[1;33m,\u001b[0m\u001b[1;36m0\u001b[0m\u001b[1;33m,\u001b[0m\u001b[1;36m1\u001b[0m\u001b[1;33m,\u001b[0m\u001b[1;36m1\u001b[0m\u001b[1;33m]\u001b[0m\u001b[1;33m,\u001b[0m\u001b[1;33m[\u001b[0m\u001b[1;36m1\u001b[0m\u001b[1;33m,\u001b[0m\u001b[1;36m0\u001b[0m\u001b[1;33m,\u001b[0m\u001b[1;36m1\u001b[0m\u001b[1;33m,\u001b[0m\u001b[1;36m0\u001b[0m\u001b[1;33m]\u001b[0m\u001b[1;33m,\u001b[0m\u001b[1;33m[\u001b[0m\u001b[1;36m0\u001b[0m\u001b[1;33m,\u001b[0m\u001b[1;36m1\u001b[0m\u001b[1;33m,\u001b[0m\u001b[1;36m0\u001b[0m\u001b[1;33m,\u001b[0m\u001b[1;36m1\u001b[0m\u001b[1;33m]\u001b[0m\u001b[1;33m]\u001b[0m\u001b[1;33m)\u001b[0m\u001b[1;33m\u001b[0m\u001b[0m\n\u001b[0;32m      3\u001b[0m \u001b[0mb\u001b[0m \u001b[1;33m=\u001b[0m \u001b[0mnp\u001b[0m\u001b[1;33m.\u001b[0m\u001b[0marray\u001b[0m\u001b[1;33m(\u001b[0m\u001b[1;33m[\u001b[0m\u001b[1;36m45000\u001b[0m\u001b[1;33m,\u001b[0m\u001b[1;36m36000\u001b[0m\u001b[1;33m,\u001b[0m\u001b[1;36m300\u001b[0m\u001b[1;33m,\u001b[0m\u001b[1;36m250\u001b[0m\u001b[1;33m,\u001b[0m\u001b[1;36m250\u001b[0m\u001b[1;33m,\u001b[0m\u001b[1;36m350\u001b[0m\u001b[1;33m]\u001b[0m\u001b[1;33m)\u001b[0m\u001b[1;33m\u001b[0m\u001b[0m\n\u001b[1;32m----> 4\u001b[1;33m \u001b[0mres\u001b[0m \u001b[1;33m=\u001b[0m \u001b[0mlinprog\u001b[0m\u001b[1;33m(\u001b[0m\u001b[0mc\u001b[0m\u001b[1;33m,\u001b[0m \u001b[0mA_ub\u001b[0m\u001b[1;33m=\u001b[0m\u001b[0mA\u001b[0m\u001b[1;33m,\u001b[0m \u001b[0mb_ub\u001b[0m\u001b[1;33m=\u001b[0m\u001b[0mb\u001b[0m\u001b[1;33m,\u001b[0m\u001b[0moptions\u001b[0m\u001b[1;33m=\u001b[0m\u001b[1;33m{\u001b[0m\u001b[1;34m\"disp\"\u001b[0m\u001b[1;33m:\u001b[0m \u001b[1;32mTrue\u001b[0m\u001b[1;33m}\u001b[0m\u001b[1;33m)\u001b[0m\u001b[1;33m\u001b[0m\u001b[0m\n\u001b[0m\u001b[0;32m      5\u001b[0m \u001b[1;31m#,method = \"interior-point\"\u001b[0m\u001b[1;33m\u001b[0m\u001b[1;33m\u001b[0m\u001b[0m\n\u001b[0;32m      6\u001b[0m \u001b[0mprint\u001b[0m\u001b[1;33m(\u001b[0m\u001b[0mres\u001b[0m\u001b[1;33m)\u001b[0m\u001b[1;33m\u001b[0m\u001b[0m\n",
      "\u001b[1;32m~\\Anaconda3\\lib\\site-packages\\scipy\\optimize\\_linprog.py\u001b[0m in \u001b[0;36mlinprog\u001b[1;34m(c, A_ub, b_ub, A_eq, b_eq, bounds, method, callback, options, x0)\u001b[0m\n\u001b[0;32m    527\u001b[0m         \u001b[1;32melif\u001b[0m \u001b[0mmeth\u001b[0m \u001b[1;33m==\u001b[0m \u001b[1;34m'interior-point'\u001b[0m\u001b[1;33m:\u001b[0m\u001b[1;33m\u001b[0m\u001b[0m\n\u001b[0;32m    528\u001b[0m             x, status, message, iteration = _linprog_ip(\n\u001b[1;32m--> 529\u001b[1;33m                 c, c0=c0, A=A, b=b, callback=callback, _T_o=T_o, **solver_options)\n\u001b[0m\u001b[0;32m    530\u001b[0m         \u001b[1;32melif\u001b[0m \u001b[0mmeth\u001b[0m \u001b[1;33m==\u001b[0m \u001b[1;34m'revised simplex'\u001b[0m\u001b[1;33m:\u001b[0m\u001b[1;33m\u001b[0m\u001b[0m\n\u001b[0;32m    531\u001b[0m             x, status, message, iteration = _linprog_rs(\n",
      "\u001b[1;32m~\\Anaconda3\\lib\\site-packages\\scipy\\optimize\\_linprog_ip.py\u001b[0m in \u001b[0;36m_linprog_ip\u001b[1;34m(c, c0, A, b, callback, _T_o, alpha0, beta, maxiter, disp, tol, sparse, lstsq, sym_pos, cholesky, pc, ip, permc_spec, **unknown_options)\u001b[0m\n\u001b[0;32m   1143\u001b[0m                                             \u001b[0mlstsq\u001b[0m\u001b[1;33m,\u001b[0m \u001b[0msym_pos\u001b[0m\u001b[1;33m,\u001b[0m \u001b[0mcholesky\u001b[0m\u001b[1;33m,\u001b[0m\u001b[1;33m\u001b[0m\u001b[0m\n\u001b[0;32m   1144\u001b[0m                                             \u001b[0mpc\u001b[0m\u001b[1;33m,\u001b[0m \u001b[0mip\u001b[0m\u001b[1;33m,\u001b[0m \u001b[0mpermc_spec\u001b[0m\u001b[1;33m,\u001b[0m \u001b[0mcallback\u001b[0m\u001b[1;33m,\u001b[0m\u001b[1;33m\u001b[0m\u001b[0m\n\u001b[1;32m-> 1145\u001b[1;33m                                             _T_o)\n\u001b[0m\u001b[0;32m   1146\u001b[0m \u001b[1;33m\u001b[0m\u001b[0m\n\u001b[0;32m   1147\u001b[0m     \u001b[1;32mreturn\u001b[0m \u001b[0mx\u001b[0m\u001b[1;33m,\u001b[0m \u001b[0mstatus\u001b[0m\u001b[1;33m,\u001b[0m \u001b[0mmessage\u001b[0m\u001b[1;33m,\u001b[0m \u001b[0miteration\u001b[0m\u001b[1;33m\u001b[0m\u001b[0m\n",
      "\u001b[1;32m~\\Anaconda3\\lib\\site-packages\\scipy\\optimize\\_linprog_ip.py\u001b[0m in \u001b[0;36m_ip_hsd\u001b[1;34m(A, b, c, c0, alpha0, beta, maxiter, disp, tol, sparse, lstsq, sym_pos, cholesky, pc, ip, permc_spec, callback, _T_o)\u001b[0m\n\u001b[0;32m    804\u001b[0m \u001b[1;33m\u001b[0m\u001b[0m\n\u001b[0;32m    805\u001b[0m         \u001b[1;32mif\u001b[0m \u001b[0mdisp\u001b[0m\u001b[1;33m:\u001b[0m\u001b[1;33m\u001b[0m\u001b[0m\n\u001b[1;32m--> 806\u001b[1;33m             \u001b[0m_display_iter\u001b[0m\u001b[1;33m(\u001b[0m\u001b[0mrho_p\u001b[0m\u001b[1;33m,\u001b[0m \u001b[0mrho_d\u001b[0m\u001b[1;33m,\u001b[0m \u001b[0mrho_g\u001b[0m\u001b[1;33m,\u001b[0m \u001b[0malpha\u001b[0m\u001b[1;33m,\u001b[0m \u001b[0mrho_mu\u001b[0m\u001b[1;33m,\u001b[0m \u001b[0mobj\u001b[0m\u001b[1;33m)\u001b[0m\u001b[1;33m\u001b[0m\u001b[0m\n\u001b[0m\u001b[0;32m    807\u001b[0m         \u001b[1;32mif\u001b[0m \u001b[0mcallback\u001b[0m \u001b[1;32mis\u001b[0m \u001b[1;32mnot\u001b[0m \u001b[1;32mNone\u001b[0m\u001b[1;33m:\u001b[0m\u001b[1;33m\u001b[0m\u001b[0m\n\u001b[0;32m    808\u001b[0m             x_o, fun, slack, con, _, _ = _postsolve(x/tau, *_T_o,\n",
      "\u001b[1;32m~\\Anaconda3\\lib\\site-packages\\scipy\\optimize\\_linprog_ip.py\u001b[0m in \u001b[0;36m_display_iter\u001b[1;34m(rho_p, rho_d, rho_g, alpha, rho_mu, obj, header)\u001b[0m\n\u001b[0;32m    564\u001b[0m         \u001b[0mfloat\u001b[0m\u001b[1;33m(\u001b[0m\u001b[0malpha\u001b[0m\u001b[1;33m)\u001b[0m \u001b[1;32mif\u001b[0m \u001b[0misinstance\u001b[0m\u001b[1;33m(\u001b[0m\u001b[0malpha\u001b[0m\u001b[1;33m,\u001b[0m \u001b[0mnumbers\u001b[0m\u001b[1;33m.\u001b[0m\u001b[0mNumber\u001b[0m\u001b[1;33m)\u001b[0m \u001b[1;32melse\u001b[0m \u001b[0malpha\u001b[0m\u001b[1;33m,\u001b[0m\u001b[1;33m\u001b[0m\u001b[0m\n\u001b[0;32m    565\u001b[0m         \u001b[0mfloat\u001b[0m\u001b[1;33m(\u001b[0m\u001b[0mrho_mu\u001b[0m\u001b[1;33m)\u001b[0m\u001b[1;33m,\u001b[0m\u001b[1;33m\u001b[0m\u001b[0m\n\u001b[1;32m--> 566\u001b[1;33m         float(obj)))\n\u001b[0m\u001b[0;32m    567\u001b[0m \u001b[1;33m\u001b[0m\u001b[0m\n\u001b[0;32m    568\u001b[0m \u001b[1;33m\u001b[0m\u001b[0m\n",
      "\u001b[1;31mTypeError\u001b[0m: unsupported format string passed to numpy.ndarray.__format__"
     ]
    }
   ],
   "source": [
    "c = [-50,-70,-50,-70]\n",
    "A = [[150,200,0,0], [0,0,135,180],[1,1,0,0],[0,0,1,1],[1,0,1,0],[0,1,0,1]]\n",
    "b = [45000,36000,300,250,250,350]\n",
    "res = linprog(c, A_ub=A, b_ub=b,options={\"disp\": True})\n",
    "#,method = \"interior-point\"\n",
    "print(res)\n",
    "\n",
    "#Nous devons donc produire 100 canapés court et 150 canapés longs à Ekea Nord ainsi que 200 canapés longs à Ekea Sud afin \n",
    "#d'obtenir le profit maximal de 29500 euros."
   ]
  },
  {
   "cell_type": "markdown",
   "metadata": {},
   "source": [
    "# Exercice 2 - Planification de la production d'une raffinerie.\n",
    "\n",
    "Une raffinerie transforme du pétrole brut en 5 produits intermédiaires qui doivent être mixés en deux qualités de carburant : l'ordinaire et le premium. Chaque produit a un taux de performance, une disponibilité maximum et un coût de production fixe. Les deux qualités de carburant ont chacune un taux de performance minimum et un prix de vente. Leur mélange est obtenu à un certain coût l'unité (l'unité ici étant le baril, \"bbl\"). Une obligation contractuelle impose une production minimum des deux qualités de carburant. Chaque carburant ou produit intermédiaire excédentaire peut être revendu sur le marché à un certain prix de vente.\n",
    "\n",
    "En notant, pour le produit $i$, $i = 1, ..., 5$, \n",
    "+ $x_i$ la quantité utilisée pour le carburant ordinaire,\n",
    "+ $y_i$ la quantité utilisée pour le carburant premium,\n",
    "+ $z_i$ la quantité vendue directement,\n",
    "+ $c^{(3)}_i$ le prix de vente pour la vente directe, \n",
    "+ $c^{(4)}_i$ le coût de production, \n",
    "+ $c^{(5)}_i$ le coût de mélange, \n",
    "+ $\\alpha_i$ la disponibilité maximum,\n",
    "+ $\\beta_i$ le taux de performance\n",
    "\n",
    "et pour la carburant $j$, $j = 1$ (ordinaire) ou $2$ (premium),\n",
    "\n",
    "+ $u_j$ la quantité vendue dans le cadre du contrat,\n",
    "+ $v_j$ la quantité vendue directement,\n",
    "+ $c^{(1)}_j$ le prix de vente pour la vente contractuelle, \n",
    "+ $c^{(2)}_j$ le prix de vente pour la vente directe,\n",
    "+ $\\gamma_j$ le taux de performance, \n",
    "+ $\\delta_j$ la production minimum, \n",
    "\n",
    "le profit s'écrit\n",
    "$$\n",
    "\\displaystyle\\sum_{j=1}^{2} \\left( c^{(1)}_ju_j + c^{(2)}_j v_j \\right)\n",
    "+ \\sum_{i=1}^{5} \\left(c^{(3)}_iz_i - c^{(4)}_i (x_i+y_i+z_i) - c^{(5)}_i (x_i+y_i) \\right).\n",
    "$$\n",
    "\n",
    "\n",
    "Pour les contraintes, on peut écrire\n",
    "+ pour la positivité des quantités : \n",
    "$$x_i, y_i, z_i \\geq 0\n",
    "\\quad\\mbox{et}\\quad\n",
    "u_j, v_j \\geq 0,$$\n",
    "+ pour la disponibilité : \n",
    "$$x_i+y_i+z_i \\leq \\alpha_i, \\quad i = 1, ..., 5$$ \n",
    "+ pour l'équilibre : \n",
    "$$\\displaystyle\\sum_{i=1}^{5} x_i = u_1+v_1 \n",
    "\\quad\\mbox{et}\\quad\n",
    "\\displaystyle\\sum_{i=1}^{5} y_i = u_2+v_2$$ \n",
    "+ pour la performance : \n",
    "$$\\sum_{i=1}^{5} \\beta_i x_i \\geq \\gamma_1(u_1+v_1)\n",
    "\\quad\\mbox{et}\\quad\n",
    "\\sum_{i=1}^{5} \\beta_iy_i \\geq \\gamma_2(u_2+v_2)$$\n",
    "+ pour le respect du contrat : \n",
    "$$u_j \\geq \\delta_j, \\quad j = 1,2.$$\n",
    "\n",
    "Quel est le plan de production optimum pour la raffinerie si les valeurs numériques suivantes sont utilisées ?\n",
    "\n",
    "Pour les produits : \n",
    "\n",
    "|                          .                   | 1   | 2   | 3   | 4   | 5   |\n",
    "|----------------------------------------------|-----|-----|-----|-----|-----|\n",
    "| prix de vente directe $c^{(3)}_i$ (en euros) |  10 |  15 |  20 |  12 |   5 |\n",
    "| coût de production $c^{(4)}_i$ (en euros)    |   9 |  12 |  18 |  11 |   3 |\n",
    "| coût de mélange $c^{(5)}_i$ (en euros)       |   9 |  13 |  19 |   9 |   4 | \n",
    "| disponibilité maximum $\\alpha_i$ (en bbl)    | 100 | 110 |  90 | 100 |  80 |  \n",
    "| taux de performance $\\beta_i$                | 0.8 | 0.9 | 0.9 | 0.8 | 0.6 |\n",
    "\n",
    "Pour les carburants : \n",
    "\n",
    "|                               .                   | ordinaire 1 | premium 2 |\n",
    "|---------------------------------------------------|-------------|-----------|\n",
    "| prix de vente contractuelle $c^{(1)}_j$ (en euros)|          50 |        60 |\n",
    "| prix de vente directe $c^{(2)}_j$ (en euros)      |          60 |        65 |\n",
    "| taux de performance $\\gamma_j$                    |         0.7 |       0.9 |\n",
    "| production minimum $\\delta_j$ (en bbl)            |         200 |       100 |\n"
   ]
  },
  {
   "cell_type": "code",
   "execution_count": 11,
   "metadata": {
    "scrolled": true
   },
   "outputs": [
    {
     "name": "stdout",
     "output_type": "stream",
     "text": [
      "Primal Feasibility  Dual Feasibility    Duality Gap         Step             Path Parameter      Objective          \n",
      "1.0                 1.0                 1.0                 -                1.0                 -16030.0            \n",
      "0.2528712644948     0.2528712644948     0.2528712644949     0.7534699912916  0.2528712644948     -15976.05560728     \n",
      "0.0532963112028     0.0532963112028     0.05329631120282    0.8127843616981  0.0532963112028     -16069.47851484     \n",
      "0.01312656613181    0.01312656613194    0.01312656613194    0.7593336401164  0.0131265661315     -16414.75414022     \n",
      "0.0004903756719883  0.0004903756722216  0.000490375672222   0.9674650914322  0.0004903756440928  -16838.97690011     \n",
      "5.619640571584e-08  5.619640725578e-08  5.619640734365e-08  0.9998863075511  5.619643807848e-08  -16859.99832636     \n"
     ]
    },
    {
     "ename": "TypeError",
     "evalue": "unsupported format string passed to numpy.ndarray.__format__",
     "output_type": "error",
     "traceback": [
      "\u001b[1;31m---------------------------------------------------------------------------\u001b[0m",
      "\u001b[1;31mTypeError\u001b[0m                                 Traceback (most recent call last)",
      "\u001b[1;32m<ipython-input-11-67515215703b>\u001b[0m in \u001b[0;36m<module>\u001b[1;34m()\u001b[0m\n\u001b[0;32m     23\u001b[0m               bounds=(x_bound,x_bound,x_bound,x_bound,x_bound, y_bound,y_bound,y_bound,y_bound,y_bound,z_bound,z_bound,z_bound,\n\u001b[0;32m     24\u001b[0m                      z_bound,z_bound,u1_bound,u2_bound,v_bound,v_bound),\n\u001b[1;32m---> 25\u001b[1;33m               options={\"disp\": True})\n\u001b[0m\u001b[0;32m     26\u001b[0m \u001b[0mprint\u001b[0m\u001b[1;33m(\u001b[0m\u001b[0mres\u001b[0m\u001b[1;33m)\u001b[0m\u001b[1;33m\u001b[0m\u001b[0m\n",
      "\u001b[1;32m~\\Anaconda3\\lib\\site-packages\\scipy\\optimize\\_linprog.py\u001b[0m in \u001b[0;36mlinprog\u001b[1;34m(c, A_ub, b_ub, A_eq, b_eq, bounds, method, callback, options, x0)\u001b[0m\n\u001b[0;32m    527\u001b[0m         \u001b[1;32melif\u001b[0m \u001b[0mmeth\u001b[0m \u001b[1;33m==\u001b[0m \u001b[1;34m'interior-point'\u001b[0m\u001b[1;33m:\u001b[0m\u001b[1;33m\u001b[0m\u001b[0m\n\u001b[0;32m    528\u001b[0m             x, status, message, iteration = _linprog_ip(\n\u001b[1;32m--> 529\u001b[1;33m                 c, c0=c0, A=A, b=b, callback=callback, _T_o=T_o, **solver_options)\n\u001b[0m\u001b[0;32m    530\u001b[0m         \u001b[1;32melif\u001b[0m \u001b[0mmeth\u001b[0m \u001b[1;33m==\u001b[0m \u001b[1;34m'revised simplex'\u001b[0m\u001b[1;33m:\u001b[0m\u001b[1;33m\u001b[0m\u001b[0m\n\u001b[0;32m    531\u001b[0m             x, status, message, iteration = _linprog_rs(\n",
      "\u001b[1;32m~\\Anaconda3\\lib\\site-packages\\scipy\\optimize\\_linprog_ip.py\u001b[0m in \u001b[0;36m_linprog_ip\u001b[1;34m(c, c0, A, b, callback, _T_o, alpha0, beta, maxiter, disp, tol, sparse, lstsq, sym_pos, cholesky, pc, ip, permc_spec, **unknown_options)\u001b[0m\n\u001b[0;32m   1143\u001b[0m                                             \u001b[0mlstsq\u001b[0m\u001b[1;33m,\u001b[0m \u001b[0msym_pos\u001b[0m\u001b[1;33m,\u001b[0m \u001b[0mcholesky\u001b[0m\u001b[1;33m,\u001b[0m\u001b[1;33m\u001b[0m\u001b[0m\n\u001b[0;32m   1144\u001b[0m                                             \u001b[0mpc\u001b[0m\u001b[1;33m,\u001b[0m \u001b[0mip\u001b[0m\u001b[1;33m,\u001b[0m \u001b[0mpermc_spec\u001b[0m\u001b[1;33m,\u001b[0m \u001b[0mcallback\u001b[0m\u001b[1;33m,\u001b[0m\u001b[1;33m\u001b[0m\u001b[0m\n\u001b[1;32m-> 1145\u001b[1;33m                                             _T_o)\n\u001b[0m\u001b[0;32m   1146\u001b[0m \u001b[1;33m\u001b[0m\u001b[0m\n\u001b[0;32m   1147\u001b[0m     \u001b[1;32mreturn\u001b[0m \u001b[0mx\u001b[0m\u001b[1;33m,\u001b[0m \u001b[0mstatus\u001b[0m\u001b[1;33m,\u001b[0m \u001b[0mmessage\u001b[0m\u001b[1;33m,\u001b[0m \u001b[0miteration\u001b[0m\u001b[1;33m\u001b[0m\u001b[0m\n",
      "\u001b[1;32m~\\Anaconda3\\lib\\site-packages\\scipy\\optimize\\_linprog_ip.py\u001b[0m in \u001b[0;36m_ip_hsd\u001b[1;34m(A, b, c, c0, alpha0, beta, maxiter, disp, tol, sparse, lstsq, sym_pos, cholesky, pc, ip, permc_spec, callback, _T_o)\u001b[0m\n\u001b[0;32m    804\u001b[0m \u001b[1;33m\u001b[0m\u001b[0m\n\u001b[0;32m    805\u001b[0m         \u001b[1;32mif\u001b[0m \u001b[0mdisp\u001b[0m\u001b[1;33m:\u001b[0m\u001b[1;33m\u001b[0m\u001b[0m\n\u001b[1;32m--> 806\u001b[1;33m             \u001b[0m_display_iter\u001b[0m\u001b[1;33m(\u001b[0m\u001b[0mrho_p\u001b[0m\u001b[1;33m,\u001b[0m \u001b[0mrho_d\u001b[0m\u001b[1;33m,\u001b[0m \u001b[0mrho_g\u001b[0m\u001b[1;33m,\u001b[0m \u001b[0malpha\u001b[0m\u001b[1;33m,\u001b[0m \u001b[0mrho_mu\u001b[0m\u001b[1;33m,\u001b[0m \u001b[0mobj\u001b[0m\u001b[1;33m)\u001b[0m\u001b[1;33m\u001b[0m\u001b[0m\n\u001b[0m\u001b[0;32m    807\u001b[0m         \u001b[1;32mif\u001b[0m \u001b[0mcallback\u001b[0m \u001b[1;32mis\u001b[0m \u001b[1;32mnot\u001b[0m \u001b[1;32mNone\u001b[0m\u001b[1;33m:\u001b[0m\u001b[1;33m\u001b[0m\u001b[0m\n\u001b[0;32m    808\u001b[0m             x_o, fun, slack, con, _, _ = _postsolve(x/tau, *_T_o,\n",
      "\u001b[1;32m~\\Anaconda3\\lib\\site-packages\\scipy\\optimize\\_linprog_ip.py\u001b[0m in \u001b[0;36m_display_iter\u001b[1;34m(rho_p, rho_d, rho_g, alpha, rho_mu, obj, header)\u001b[0m\n\u001b[0;32m    564\u001b[0m         \u001b[0mfloat\u001b[0m\u001b[1;33m(\u001b[0m\u001b[0malpha\u001b[0m\u001b[1;33m)\u001b[0m \u001b[1;32mif\u001b[0m \u001b[0misinstance\u001b[0m\u001b[1;33m(\u001b[0m\u001b[0malpha\u001b[0m\u001b[1;33m,\u001b[0m \u001b[0mnumbers\u001b[0m\u001b[1;33m.\u001b[0m\u001b[0mNumber\u001b[0m\u001b[1;33m)\u001b[0m \u001b[1;32melse\u001b[0m \u001b[0malpha\u001b[0m\u001b[1;33m,\u001b[0m\u001b[1;33m\u001b[0m\u001b[0m\n\u001b[0;32m    565\u001b[0m         \u001b[0mfloat\u001b[0m\u001b[1;33m(\u001b[0m\u001b[0mrho_mu\u001b[0m\u001b[1;33m)\u001b[0m\u001b[1;33m,\u001b[0m\u001b[1;33m\u001b[0m\u001b[0m\n\u001b[1;32m--> 566\u001b[1;33m         float(obj)))\n\u001b[0m\u001b[0;32m    567\u001b[0m \u001b[1;33m\u001b[0m\u001b[0m\n\u001b[0;32m    568\u001b[0m \u001b[1;33m\u001b[0m\u001b[0m\n",
      "\u001b[1;31mTypeError\u001b[0m: unsupported format string passed to numpy.ndarray.__format__"
     ]
    }
   ],
   "source": [
    "#Variables : X = [x1,x2,x3,x4,x5,y1,y2,y3,y4,y5,z1,z2,z3,z4,z5,u1,u2,v1,v2]\n",
    "c = [-9-9,-12-13,-18-19,-11-9,-3-4,-9-9,-12-13,-18-19,-11-9,-3-4,10-9,15-12,20-18,12-11,5-3,50,60,60,65]\n",
    "c_neg = [18,25,37,20,7,18,25,37,20,7,-1,-3,-2,-1,-2,-50,-60,-60,-65]\n",
    "A = [[1,0,0,0,0,1,0,0,0,0,1,0,0,0,0,0,0,0,0],\n",
    "     [0,1,0,0,0,0,1,0,0,0,0,1,0,0,0,0,0,0,0],\n",
    "     [0,0,1,0,0,0,0,1,0,0,0,0,1,0,0,0,0,0,0],\n",
    "     [0,0,0,1,0,0,0,0,1,0,0,0,0,1,0,0,0,0,0],\n",
    "     [0,0,0,0,1,0,0,0,0,1,0,0,0,0,1,0,0,0,0],\n",
    "     [-0.8,-0.9,-0.9,-0.8,-0.6,0,0,0,0,0,0,0,0,0,0,0.7,0,0.7,0],\n",
    "     [0,0,0,0,0,-0.8,-0.9,-0.9,-0.8,-0.6,0,0,0,0,0,0,0.9,0,0.9]]\n",
    "b = [100,110,90,100,80,0,0]\n",
    "\n",
    "A_E = [[1,1,1,1,1,0,0,0,0,0,0,0,0,0,0,-1,0,-1,0],\n",
    "       [0,0,0,0,0,1,1,1,1,1,0,0,0,0,0,0,-1,0,-1]]\n",
    "b_E = [0,0]\n",
    "x_bound = (0, None)\n",
    "y_bound = (0, None)\n",
    "z_bound = (0, None)\n",
    "v_bound = (0, None)\n",
    "u1_bound = (200,None)\n",
    "u2_bound = (100,None)\n",
    "res = linprog(c_neg, A_ub=A, b_ub=b,A_eq = A_E,b_eq = b_E,\n",
    "              bounds=(x_bound,x_bound,x_bound,x_bound,x_bound, y_bound,y_bound,y_bound,y_bound,y_bound,z_bound,z_bound,z_bound,\n",
    "                     z_bound,z_bound,u1_bound,u2_bound,v_bound,v_bound),\n",
    "              options={\"disp\": True})\n",
    "print(res)"
   ]
  },
  {
   "cell_type": "markdown",
   "metadata": {},
   "source": [
    "# Exercice 3 - Transportation problem\n",
    "\n",
    "The Brazilian Coffee company processes coffee beans into coffee at $m$ plants. The coffee is then shipped every week to $n$ warehouses in major cities for retail, distribution and exporting. Suppose that the unit shipping cost from plant $i$ to warehouse $j$ is $c_{ij}$. Further suppose that the production capacity at plant $i$ is $a_i$ and that the demand at warehouse $j$ is $b_j$.\n",
    "\n",
    "Find the production shipping pattern $x_{ij}$ from plant $i$ to warehouse $j$ ($i = 1, ..., m$ and $j = 1, ..., n$) that minimizes the overall shipping cost.\n",
    "\n",
    "En notant $x_{ij}$ la quantité de café livrée de l'usine $i$ vers le magasin $j$, on cherche à minimiser le coût global d'expédition\n",
    "$$\n",
    "\\displaystyle\\sum_{i=1}^m \\sum_{j=1}^n c_{ij}x_{ij},\n",
    "$$\n",
    "sous les contraintes de \n",
    "+ positivité des quantités : $x_{ij} \\geq 0$,\n",
    "+ capacité de production : $\\sum_{j=1}^n x_{ij} \\leq a_i$,\n",
    "+ respect de la demande : $\\sum_{i=1}^m x_{ij} = b_j$.\n",
    "\n",
    "Quel est le plan optimal de production si on se donne les valeurs numériques suivantes ? \n",
    "$$m = 3, \\quad n = 5, \\quad a = (1000,2000,500), \\quad b = (700,500,900,400,200)$$\n",
    "et \n",
    "$$\n",
    "C = \\left(\\begin{array}{rrrrr}\n",
    "2 & 3 & 4 & 5 & 6\n",
    "\\\\\n",
    "4 & 2 & 5 & 2 & 7\n",
    "\\\\\n",
    "3 & 4 & 2 & 8 & 5\n",
    "\\end{array}\\right)\n",
    "$$\n"
   ]
  },
  {
   "cell_type": "code",
   "execution_count": 3,
   "metadata": {},
   "outputs": [
    {
     "name": "stdout",
     "output_type": "stream",
     "text": [
      "Optimization terminated successfully.\n",
      "         Current function value: 7300.000000 \n",
      "         Iterations: 12\n",
      "     fun: 7300.0\n",
      " message: 'Optimization terminated successfully.'\n",
      "     nit: 12\n",
      "   slack: array([  0., 800.,   0.])\n",
      "  status: 0\n",
      " success: True\n",
      "       x: array([700.,   0., 100.,   0., 200.,   0., 500., 300., 400.,   0.,   0.,\n",
      "         0., 500.,   0.,   0.])\n"
     ]
    }
   ],
   "source": [
    "#Variables : X = [x11,x12,x13,x14,x15,x21,x22,x23,x24,x25,x31,x32,x33,x34,x35]\n",
    "c = [2,3,4,5,6,4,2,5,2,7,3,4,2,8,5]\n",
    "A = [[1,1,1,1,1,0,0,0,0,0,0,0,0,0,0],\n",
    "     [0,0,0,0,0,1,1,1,1,1,0,0,0,0,0],\n",
    "     [0,0,0,0,0,0,0,0,0,0,1,1,1,1,1],]\n",
    "b = [1000,2000,500]\n",
    "A_E = [[1,0,0,0,0,1,0,0,0,0,1,0,0,0,0],\n",
    "       [0,1,0,0,0,0,1,0,0,0,0,1,0,0,0],\n",
    "       [0,0,1,0,0,0,0,1,0,0,0,0,1,0,0],\n",
    "       [0,0,0,1,0,0,0,0,1,0,0,0,0,1,0],\n",
    "       [0,0,0,0,1,0,0,0,0,1,0,0,0,0,1]]\n",
    "b_E = [700,500,900,400,200]\n",
    "res = linprog(c, A_ub=A, b_ub=b,A_eq = A_E,b_eq = b_E,\n",
    "              options={\"disp\": True})\n",
    "print(res)"
   ]
  },
  {
   "cell_type": "markdown",
   "metadata": {},
   "source": [
    "# Exercice 4 - Problème du régime alimentaire\n",
    "\n",
    "Vous avez à votre disposition $n$ produits alimentaires et le prix du produit $j$ est $c_j$. Vous savez que pour une bonne nutrition, il est nécessaire de consommer $m$ ingrédients de base et qu'il vous faut au minimum $b_i$ unités de l'ingrédient $i$ pour un régime alimentaire équilibré et une bonne santé. De plus, une étude a montré que chaque unité du produit $j$ contient $a_{ij}$ unités de l'ingrédient nutritionnel $i$.\n",
    "\n",
    "En notant $x_j$ la quantité de produit $j$ achetée, le problème d'optimisation à résoudre s'écrit \n",
    "\n",
    "$$\n",
    "\\begin{array}{l}\n",
    "\\min \\displaystyle\\sum_{j=1}^n c_j x_j\n",
    "\\\\\n",
    "\\mbox{sous les contraintes :}\n",
    "\\\\\n",
    "x\\in{\\mathbb{R}}^n\n",
    "\\\\\n",
    "x_j \\geq 0, \\forall j = 1, ..., n\n",
    "\\\\\n",
    "\\displaystyle\\sum_{j=1}^n a_{ij} x_j \\geq b_i, \\forall i = 1, ..., m.\n",
    "\\end{array}\n",
    "$$\n",
    "\n",
    "Quel est le panier de produits le moins cher qui permettra de respecter un régime alimentaire équilibré si on se donne les valeurs numériques suivantes ?\n",
    "$$m = 5 \\mbox{ (féculents, protéines, produits laitiers, liquides, fruits et légumes)}, $$\n",
    "$$n = 12 \\mbox{ (riz, pâtes, pommes de terre, yaourts, lait, fromage, eau, vin, viande, poisson, pommes et tomates)}, $$ \n",
    "$$b = (3,1,3,10,5), \\quad c = (3,2,1,4,2,5,0.5,20,80,100,3,10)$$\n",
    "et \n",
    "$$\n",
    "A = \\left(\\begin{array}{rrrrrrrrrrrr}\n",
    "1 & 1 & 1 & 0 & 0 & 0 & 0 & 0 & 0 & 0 & 0 & 0\n",
    "\\\\\n",
    "0 & 0 & 0 & 1 & 1 & 2 & 0 & 0 & 3 & 3 & 0 & 0\n",
    "\\\\\n",
    "0 & 0 & 0 & 1 & 1 & 1 & 0 & 0 & 0 & 0 & 0 & 0\n",
    "\\\\\n",
    "0 & 0 & 0 & 0 & 1 & 0 & 4 & 0 & 0 & 0 & 0 & 0\n",
    "\\\\\n",
    "0 & 0 & 0 & 0 & 0 & 0 & 0 & 0 & 0 & 0 & 1 & 2\n",
    "\\end{array}\\right)\n",
    "$$"
   ]
  },
  {
   "cell_type": "code",
   "execution_count": 5,
   "metadata": {},
   "outputs": [
    {
     "name": "stdout",
     "output_type": "stream",
     "text": [
      "Optimization terminated successfully.\n",
      "         Current function value: 24.875000   \n",
      "         Iterations: 9\n",
      "     fun: 24.875\n",
      " message: 'Optimization terminated successfully.'\n",
      "     nit: 9\n",
      "   slack: array([0., 2., 0., 0., 0.])\n",
      "  status: 0\n",
      " success: True\n",
      "       x: array([0.  , 0.  , 3.  , 0.  , 3.  , 0.  , 1.75, 0.  , 0.  , 0.  , 5.  ,\n",
      "       0.  ])\n"
     ]
    }
   ],
   "source": [
    "#Vecteur X = [riz, pâtes, pommes de terre, yaourts, lait, fromage, eau, vin, viande, poisson, pommes,tomates]\n",
    "c = [3,2,1,4,2,5,0.5,20,80,100,3,10]\n",
    "A = [[-1,-1,-1,0,0,0,0,0,0,0,0,0],\n",
    "     [0,0,0,-1,-1,-2,0,0,-3,-3,0,0],\n",
    "     [0,0,0,-1,-1,-1,0,0,0,0,0,0],\n",
    "     [0,0,0,0,-1,0,-4,0,0,0,0,0],\n",
    "     [0,0,0,0,0,0,0,0,0,0,-1,-2]]\n",
    "b = [-3,-1,-3,-10,-5]\n",
    "res = linprog(c, A_ub=A, b_ub=b,options={\"disp\": True})\n",
    "print(res)"
   ]
  },
  {
   "cell_type": "markdown",
   "metadata": {},
   "source": [
    "# Exercice 5 - Bientôt la Chandeleur ...\n",
    "\n",
    "A l'approche de la Chandeleur, Sophie décide de confectionner des crèpes. En allant inspecter ses réserves, elle constate qu'il lui reste 5.5 kilos de farine, 100 oeufs et 14 litres de lait. Sophie a deux spécialités : les crèpes légères et les crèpes épaisses. La confection de 20 crèpes légères nécessite 250 grammes de farine, 3 oeufs et 75 cl de lait. Pour réaliser 18 crèpes épaisses, il faut 250 grammes de farine, 5 oeufs et 50 cl de lait. \n",
    "Sophie fera un profit de 3 euros en vendant une douzaine de crèpes légères, et de 5 euros en vendant une douzaine de crèpes épaisses.\n",
    "\n",
    "Combien Sophie doit-elle fabriquer de crèpes légères et épaisses pour réaliser le plus grand bénéfice ? On essaiera de répondre à cette question par lecture graphique, puis en utilisant **linprog**."
   ]
  },
  {
   "cell_type": "code",
   "execution_count": 55,
   "metadata": {},
   "outputs": [
    {
     "name": "stdout",
     "output_type": "stream",
     "text": [
      "Optimization terminated successfully.\n",
      "         Current function value: -152.500000 \n",
      "         Iterations: 2\n",
      "     fun: -152.5\n",
      " message: 'Optimization terminated successfully.'\n",
      "     nit: 2\n",
      "   slack: array([  0., 175.,   0.])\n",
      "  status: 0\n",
      " success: True\n",
      "       x: array([100., 306.])\n"
     ]
    }
   ],
   "source": [
    "# Vecteur X = [liquide,epaisse]\n",
    "#Légère : x1 : 250g/20 farine   3/20  oeufs    75/20 cl lait par crêpe légère\n",
    "#Epaisse : x2 : 250g/18 farine   5/18  oeufs    50/18 cl lait par crêpe épaisse\n",
    "#Farine : 250/20*x1 + 250/18*x2 <= 5500 g\n",
    "#Oeufs : 3/20*x1 + 5/18*x2 <= 100\n",
    "#Lait : 75/20*x1 + 50/18*x2 <= 1400 cl\n",
    "#P(x1,x2) = 3/12*x1 + 5/12*x2 sc : \n",
    "#250/20*x1 + 250/18*x2 <= 5500\n",
    "#3/20*x1 + 5/18*x2<= 100\n",
    "#75/20*x1 + 50/18*x2 <= 1400\n",
    "#x1 >=0\n",
    "#x2 >= 0\n",
    "c = [-3/12,-5/12]\n",
    "A = [[3/20,5/18],\n",
    "     [75/20,50/18],\n",
    "     [250/20,250/18]]\n",
    "b = [100,1400,5500]\n",
    "res = linprog(c, A_ub=A, b_ub=b,options={\"disp\": True})\n",
    "print(res)"
   ]
  },
  {
   "cell_type": "code",
   "execution_count": 71,
   "metadata": {},
   "outputs": [],
   "source": [
    "import numpy as np"
   ]
  },
  {
   "cell_type": "code",
   "execution_count": 72,
   "metadata": {},
   "outputs": [],
   "source": [
    "Lx1 = np.arange(0,150)\n",
    "Lx2 = np.arange(0,500)\n",
    "X,Y = np.meshgrid(Lx1,Lx2)\n",
    "Z = 3/12*X+5/12*Y"
   ]
  },
  {
   "cell_type": "code",
   "execution_count": 77,
   "metadata": {},
   "outputs": [],
   "source": [
    "Ly1 = (5500-250/20*Lx1)/(250/18)\n",
    "Ly2 = (100-3/20*Lx1)/(5/18)\n",
    "Ly3 = (1400-75/20*Lx1)/(50/18)"
   ]
  },
  {
   "cell_type": "code",
   "execution_count": 78,
   "metadata": {},
   "outputs": [],
   "source": [
    "import matplotlib.pyplot as plt"
   ]
  },
  {
   "cell_type": "code",
   "execution_count": 84,
   "metadata": {},
   "outputs": [
    {
     "data": {
      "image/png": "[encoded data removed]",
      "text/plain": [
       "<Figure size 432x288 with 1 Axes>"
      ]
     },
     "metadata": {
      "needs_background": "light"
     },
     "output_type": "display_data"
    }
   ],
   "source": [
    "plt.contour(X,Y,Z,10)\n",
    "plt.plot(Lx1,Ly1,color='red')\n",
    "plt.plot(Lx1,Ly2,color='red')\n",
    "plt.plot(Lx1,Ly3,color='red')\n",
    "plt.grid()"
   ]
  },
  {
   "cell_type": "markdown",
   "metadata": {},
   "source": [
    "Methode Ligne de niveaux :\n",
    "Lx1 = np.arange(x1min,x1max)\n",
    "Lx2 = np.arange(x2min,x2max)\n",
    "X,Y = np.meshgrid(Lx1,Lx2)\n",
    "Z=f(X,Y)\n",
    "contour(X,Y,Z,nb_ligne_niveau)"
   ]
  }
 ],
 "metadata": {
  "kernelspec": {
   "display_name": "Python 3",
   "language": "python",
   "name": "python3"
  },
  "language_info": {
   "codemirror_mode": {
    "name": "ipython",
    "version": 3
   },
   "file_extension": ".py",
   "mimetype": "text/x-python",
   "name": "python",
   "nbconvert_exporter": "python",
   "pygments_lexer": "ipython3",
   "version": "3.7.3"
  }
 },
 "nbformat": 4,
 "nbformat_minor": 1
}
