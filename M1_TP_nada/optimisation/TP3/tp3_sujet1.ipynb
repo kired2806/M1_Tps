{
 "cells": [
  {
   "cell_type": "markdown",
   "metadata": {},
   "source": [
    "# TP3 - quasi-Newton et gradient stochastique"
   ]
  },
  {
   "cell_type": "code",
   "execution_count": 1,
   "metadata": {},
   "outputs": [],
   "source": [
    "import random"
   ]
  },
  {
   "cell_type": "code",
   "execution_count": 2,
   "metadata": {},
   "outputs": [
    {
     "name": "stdout",
     "output_type": "stream",
     "text": [
      "Populating the interactive namespace from numpy and matplotlib\n"
     ]
    },
    {
     "name": "stderr",
     "output_type": "stream",
     "text": [
      "C:\\Users\\Romain\\Anaconda3\\lib\\site-packages\\IPython\\core\\magics\\pylab.py:160: UserWarning: pylab import has clobbered these variables: ['random']\n",
      "`%matplotlib` prevents importing * from pylab and numpy\n",
      "  \"\\n`%matplotlib` prevents importing * from pylab and numpy\"\n"
     ]
    }
   ],
   "source": [
    "%pylab inline\n",
    "\n",
    "def RLW(xk,dk,f,df):\n",
    "    # xk et dk sont consideres comme etant des tableaux (array) 1D\n",
    "    # De meme, df doit retourner un array 1D\n",
    "    c1 = 0.1\n",
    "    c2 = 0.9\n",
    "    tg = 0.0\n",
    "    alpha = 1.0\n",
    "    td = 2.0\n",
    "    \n",
    "    fx = f(xk)\n",
    "    gx = df(xk)\n",
    "    ps = dot(gx,dk)\n",
    "    xnew = xk+alpha*dk\n",
    "    while (f(xnew) > fx+c1*alpha*ps) or (dot(df(xnew),dk) < c2*ps):\n",
    "        if f(xnew) > fx+c1*alpha*ps:\n",
    "            td = alpha\n",
    "        else:\n",
    "            tg = alpha\n",
    "        alpha = (tg+td)/2\n",
    "        xnew = xk+alpha*dk\n",
    "    return alpha\n",
    "\n",
    "def RLWp(xk,dk,f,df,param):\n",
    "    # xk et dk sont consideres comme etant des tableaux (array) 1D\n",
    "    # De meme, df doit retourner un array 1D\n",
    "    c1 = 0.1\n",
    "    c2 = 0.9\n",
    "    tg = 0.0\n",
    "    alpha = 1.0\n",
    "    td = 2.0\n",
    "    \n",
    "    fx = f(xk,param)\n",
    "    gx = df(xk,param)\n",
    "    ps = dot(gx,dk)\n",
    "    xnew = xk+alpha*dk\n",
    "    while (f(xnew,param) > fx+c1*alpha*ps) or (dot(df(xnew,param),dk) < c2*ps):\n",
    "        if f(xnew,param) > fx+c1*alpha*ps:\n",
    "            td = alpha\n",
    "        else:\n",
    "            tg = alpha\n",
    "        alpha = (tg+td)/2\n",
    "        xnew = xk+alpha*dk\n",
    "    return alpha"
   ]
  },
  {
   "cell_type": "markdown",
   "metadata": {},
   "source": [
    "# Exercice 1 - une méthode de quasi-Newton : BFGS\n",
    "\n",
    "On se donne $f : \\mathbb{R}^n \\to \\mathbb{R}$ deux fois différentiable.\n",
    "\n",
    "On rappelle qu'une méthode de quasi-Newton pour minimiser $f$ est \n",
    "de se donner un point de départ $x_0 \\in \\mathbb{R}^n$\n",
    "et de construire la suite suivante : \n",
    "$$\n",
    "x_{k+1} = x_k+\\alpha_k d_k,\n",
    "$$\n",
    "où \n",
    "+ $\\alpha_k$ est le résultat d'une recherche linéaire dite de Wolfe (l'une des fonctions RLW, RLWp fournies ci-dessus) ; \n",
    "+ $d_k$ est solution de $B_k d_k = -\\nabla f(x_k)$ ; \n",
    "+ et $B_k$ est une matrice qui \"approche\" la matrice hessienne de $f$ au point $x_k$.\n",
    "\n",
    "L'une des méthodes de quasi-Newton les plus utilisées est celle de BFGS (initiales des auteurs Broyden, Fletcher, Goldfarb et Shanno). Elle consiste à construire la matrice $B_k$ itérativement en partant de $B_0 = I_n$ et en effectuant la mise à jour suivante : \n",
    "$$\n",
    "B_{k+1} = B_k\n",
    "+\\dfrac{y_k y_k^\\top}{y_k^\\top s_k}\n",
    "-\\dfrac{B_ks_ks_k^\\top B_k}{s_k^\\top B_k s_k},\n",
    "$$\n",
    "avec $s_k = x_{k+1}-x_k$ et \n",
    "$y_k = \\nabla f(x_{k+1})-\\nabla f(x_k)$."
   ]
  },
  {
   "cell_type": "markdown",
   "metadata": {},
   "source": [
    "## 1) Mise en oeuvre de la méthode de BFGS\n",
    "\n",
    "Ecrire une fonction **BFGS(f,df,x0,tolg,itmax)** qui construit la suite décrite ci-dessus pour la fonction nommée **f**, dont le gradient est calculé en appelant **df**. On partira du point de départ **x0** et on arrêtera la construction de la suite si on atteint le nombre maximum d'itérations **itmax** ou bien si la norme du gradient de la fonction minimisée est en-dessous de **tolg**.\n",
    "\n",
    "On utilisera la fonction RLW définie ci-dessus pour réaliser la recherche linéaire de Wolfe.\n",
    "\n",
    "Cette fonction devra retourner la liste de tous les itérés calculés.\n",
    "\n",
    "Indication : on pourra utiliser **linalg.solve** pour résoudre un système linéaire."
   ]
  },
  {
   "cell_type": "code",
   "execution_count": 2,
   "metadata": {},
   "outputs": [],
   "source": [
    "def BFGS(f,df,x0,tolg,itmax) :\n",
    "    Beta_k = eye(size(x0))\n",
    "    xk = [x0]\n",
    "    norme_gradient = tolg\n",
    "    i=0\n",
    "    while (norme_gradient >= tolg and i<itmax):\n",
    "        gradient = np.array(df(xk[i]))\n",
    "        norme_gradient = np.linalg.norm(gradient)\n",
    "        dk = linalg.solve(Beta_k,-1*gradient)\n",
    "        alpha_k = RLW(xk[i],dk,f,df)\n",
    "        xk.append(list(xk[i]+alpha_k*dk))\n",
    "        sk = np.array(xk[i+1])-np.array(xk[i])\n",
    "        yk = np.array(df(xk[i+1])) - np.array(df(xk[i]))\n",
    "        #a = matmul(yk.reshape(len(x0),1),yk.reshape(1,len(x0)))\n",
    "        #b = matmul(yk.reshape(1,len(x0)),sk.reshape(len(x0),1))\n",
    "        #c = matmul(Beta_k.reshape(len(x0),len(x0)),sk.reshape(len(x0),1),sk.reshape(len(x0),1))\n",
    "        a = np.matrix(yk).transpose()*np.matrix(yk)\n",
    "        b = np.matrix(yk).transpose()*np.matrix(sk)\n",
    "        c = np.matrix(Beta_k)*np.matrix(sk).transpose()*np.matrix(sk)*np.matrix(Beta_k)\n",
    "        d = np.matrix(sk)*np.matrix(Beta_k)*np.matrix(sk).transpose()\n",
    "        Beta_k = Beta_k + a/b - c\n",
    "        i=i+1\n",
    "    return(xk)"
   ]
  },
  {
   "cell_type": "markdown",
   "metadata": {},
   "source": [
    "## 2) Test de la méthode de BFGS\n",
    "\n",
    "### a) Appel de BFGS\n",
    "\n",
    "Appeler la fonction **BFGS** écrite à la question 1 pour minimiser la fonction de Rosenbrock déjà utilisée au TP2, en partant de $x_0 = (-1.2,1)$ avec **itmax = 100** et **tolg** $=10^{-10}$."
   ]
  },
  {
   "cell_type": "code",
   "execution_count": 30,
   "metadata": {},
   "outputs": [],
   "source": [
    "def df(x):\n",
    "    p=10\n",
    "    return(4*p*x[0]*(x[0]**2-x[1])-2*(1-x[0]),-2*p*(x[0]**2-x[1]))\n",
    "def Rosenbrock(x) :\n",
    "    p = 10\n",
    "    return(p*(x[0]**2-x[1])**2+(1-x[0])**2)"
   ]
  },
  {
   "cell_type": "code",
   "execution_count": 4,
   "metadata": {},
   "outputs": [
    {
     "name": "stderr",
     "output_type": "stream",
     "text": [
      "C:\\Users\\Romain\\Anaconda3\\lib\\site-packages\\ipykernel_launcher.py:21: RuntimeWarning: invalid value encountered in true_divide\n"
     ]
    }
   ],
   "source": [
    "x0 = [-1.2,1]\n",
    "tolg = 10**-10\n",
    "itmax = 100\n",
    "t = np.array(BFGS(Rosenbrock,df,x0,tolg,itmax))"
   ]
  },
  {
   "cell_type": "code",
   "execution_count": 5,
   "metadata": {},
   "outputs": [
    {
     "name": "stdout",
     "output_type": "stream",
     "text": [
      "[[-1.2         1.        ]\n",
      " [-1.000625    1.06875   ]\n",
      " [ 0.46745911 -0.14011389]\n",
      " [ 0.46745911 -0.14011389]\n",
      " [        nan         nan]\n",
      " [        nan         nan]]\n"
     ]
    }
   ],
   "source": [
    "print(t)"
   ]
  },
  {
   "cell_type": "markdown",
   "metadata": {},
   "source": [
    "### b) Affichage du dernier itéré et de la valeur optimale\n",
    "\n",
    "Faire afficher le dernier itéré calculé, ainsi que la valeur de la fonction de Rosenbrock en cet itéré."
   ]
  },
  {
   "cell_type": "code",
   "execution_count": 6,
   "metadata": {},
   "outputs": [
    {
     "name": "stdout",
     "output_type": "stream",
     "text": [
      "[nan nan]\n"
     ]
    }
   ],
   "source": [
    "lent = len(t)\n",
    "print(t[lent-1])"
   ]
  },
  {
   "cell_type": "markdown",
   "metadata": {},
   "source": [
    "### c) Tracés\n",
    "\n",
    "Sur un même graphique, faire afficher\n",
    "+ les contours de la fonction de Rosenbrock,\n",
    "+ tous les itérés calculés par BFGS \n",
    "+ et la solution exacte de la minimisation de la fonction de Rosenbrock."
   ]
  },
  {
   "cell_type": "code",
   "execution_count": null,
   "metadata": {},
   "outputs": [],
   "source": []
  },
  {
   "cell_type": "markdown",
   "metadata": {},
   "source": [
    "# Exercice 2 - une méthode de gradient stochastique\n",
    "\n",
    "On a vu la méthode du gradient au TP2. On y calcule le gradient de la fonction à minimiser à chaque itération. Dans certaines situations (par exemple en *machine learning*), le calcul de ce gradient est très coûteux. Par exemple, si on considère des fonctions du type \n",
    "$$\n",
    "f(x) := \\sum_{i=0}^L f_i(x),\n",
    "$$\n",
    "avec $L$ très grand.\n",
    "\n",
    "Il a été imaginé des méthodes de gradients **stochastiques** qui procèdent comme pour les méthodes de gradients, mais au lieu d'utiliser $\\nabla f(x_k)$ à chaque itération, elles utilisent $\\nabla f_{i_k} (x_k)$ où $i_k$ est tiré aléatoirement dans $\\{0,1, ..., L\\}$."
   ]
  },
  {
   "cell_type": "markdown",
   "metadata": {},
   "source": [
    "## 1) Mise en oeuvre d'une méthode de gradient stochastique\n",
    "\n",
    "Ecrire une fonction **SGPF(x0,df,L,alpha,itmax,param)** \n",
    "+ pour minimiser une fonction $f$ qui s'écrit comme une somme de **L**+1 termes et qui peut dépendre de paramètres stockés dans **param**, \n",
    "+ en partant du vecteur initial **x0** \n",
    "+ et en utilisant le pas fixe stocké dans **alpha**, \n",
    "+ sans faire plus de **itmax** itérations. \n",
    "+ L'argument **df** est le nom d'une fonction dont les arguments d'entrée sont $x$ et $ik$ et qui doit calculer $\\nabla f_{ik}(x)$.\n",
    "\n",
    "Cette fonction doit fournir la suite \n",
    "$$\n",
    "x_{k+1} = x_k+\\alpha d_k,\n",
    "$$\n",
    "avec \n",
    "+ $d_k = -\\nabla f_{ik}(x_k)$,\n",
    "+ et $ik$ un indice tiré suivant une loi uniforme dans $\\{0,1, ..., L\\}$."
   ]
  },
  {
   "cell_type": "code",
   "execution_count": 50,
   "metadata": {},
   "outputs": [],
   "source": [
    "def SGPF(x0,df,L,alpha,itmax,param):\n",
    "    x = [x0]\n",
    "    for k in range (1,itmax+1) :\n",
    "        ik = random.randint(0, L+1)\n",
    "        x.append(list(np.array(x[k-1]) + (-1)*alpha*np.array(df(x[k-1],ik,param))))\n",
    "    return(x)"
   ]
  },
  {
   "cell_type": "markdown",
   "metadata": {},
   "source": [
    "## 2) Un exemple de test en classification\n",
    "\n",
    "On s'intéresse à la recherche d'une droite qui sépare les croix des cercles dans le graphe ci-dessous."
   ]
  },
  {
   "cell_type": "code",
   "execution_count": 51,
   "metadata": {},
   "outputs": [
    {
     "name": "stderr",
     "output_type": "stream",
     "text": [
      "C:\\Users\\Romain\\Anaconda3\\lib\\site-packages\\ipykernel_launcher.py:8: MatplotlibDeprecationWarning: The find function was deprecated in Matplotlib 2.2 and will be removed in 3.1.\n",
      "  \n",
      "C:\\Users\\Romain\\Anaconda3\\lib\\site-packages\\ipykernel_launcher.py:9: MatplotlibDeprecationWarning: The find function was deprecated in Matplotlib 2.2 and will be removed in 3.1.\n",
      "  if __name__ == '__main__':\n"
     ]
    },
    {
     "data": {
      "text/plain": [
       "[<matplotlib.lines.Line2D at 0x2780c2ba128>]"
      ]
     },
     "execution_count": 51,
     "metadata": {},
     "output_type": "execute_result"
    },
    {
     "data": {
      "image/png": "[encoded data removed]",
      "text/plain": [
       "<Figure size 432x288 with 1 Axes>"
      ]
     },
     "metadata": {
      "needs_background": "light"
     },
     "output_type": "display_data"
    }
   ],
   "source": [
    "L = 100\n",
    "n = 2\n",
    "xtab = -1+2*random.rand(n,L+1)\n",
    "s = sum(xtab,axis=0)\n",
    "ytab = ones((L+1))\n",
    "ytab[s<1] = -1\n",
    "\n",
    "pos = find(s>=0)\n",
    "neg = find(s<0)\n",
    "plot(xtab[0,pos],xtab[1,pos],'+')\n",
    "plot(xtab[0,neg],xtab[1,neg],'o')"
   ]
  },
  {
   "cell_type": "markdown",
   "metadata": {},
   "source": [
    "On cherche à faire de la classification. Etant donnés \n",
    "+ les croix représentant des points $x_i$ d'étiquette $y_i = 1$ \n",
    "+ et les cercles représentants d'autres points $x_i$ d'étiquette $y_i = -1$, \n",
    "on cherche un vecteur $w$ de $\\mathbb{R}^2$ (vecteur normal à la droite séparatrice) tel que la droite d'équation $w^\\top x =0$ sépare les croix et les cercles.\n",
    "\n",
    "Une manière de le faire est de minimiser la fonction de $\\mathbb{R}^2$ dans $\\mathbb{R}$ suivante : \n",
    "$f_\\lambda(w) := \\sum_{i=0}^L f_{\\lambda,i}(w)$, où\n",
    "$$\n",
    "f_{\\lambda,i}(w) = y_i(w^\\top x_i) + \\lambda w^\\top w.\n",
    "$$"
   ]
  },
  {
   "cell_type": "markdown",
   "metadata": {},
   "source": [
    "### a) Ecrire une fonction **df(w,i,param)**.\n",
    "\n",
    "Elle évalue $\\nabla f_{\\lambda,i}(w)$. \n",
    "\n",
    "On considère que la liste **param** contient le tableau des points $x_i$ (taille $2\\times (L+1)$), le tableau des étiquettes $y_i$ et le paramètre $\\lambda$."
   ]
  },
  {
   "cell_type": "code",
   "execution_count": 64,
   "metadata": {},
   "outputs": [],
   "source": [
    "def df(w,i,param) :\n",
    "    #gradient = yi*xi + 2*lambda*w\n",
    "    x = param[0]\n",
    "    y = param[1]\n",
    "    lambd = param[2]\n",
    "    xi = np.array([x[0,i],x[1,i]])\n",
    "    yi = y[i]\n",
    "    gradient = yi*xi + 2*lambd*np.array(w)\n",
    "    return(list(gradient))"
   ]
  },
  {
   "cell_type": "code",
   "execution_count": 65,
   "metadata": {},
   "outputs": [
    {
     "data": {
      "text/plain": [
       "[-0.3282135064110874, 0.3787334516249963]"
      ]
     },
     "execution_count": 65,
     "metadata": {},
     "output_type": "execute_result"
    }
   ],
   "source": [
    "param = [xtab,ytab,1]\n",
    "df([0,0],4,param)"
   ]
  },
  {
   "cell_type": "markdown",
   "metadata": {},
   "source": [
    "### b) Appel de SGPF\n",
    "\n",
    "Appeler la fonction **SGPF** écrite à la question 1 pour minimiser la fonction $f_\\lambda$, en partant de $w_0 = (0,0)$ avec **itmax = 10L**, **alpha** $=0.001$ et $\\lambda = 1$.\n",
    "\n",
    "Afficher le dernier itéré calculé."
   ]
  },
  {
   "cell_type": "code",
   "execution_count": 66,
   "metadata": {},
   "outputs": [],
   "source": [
    "w0 = [0,0]\n",
    "L = 100\n",
    "alpha = 0.001\n",
    "itmax = 10*L\n",
    "param = [xtab,ytab,1]\n",
    "x = SGPF(w0,df,L,alpha,itmax,param)"
   ]
  },
  {
   "cell_type": "code",
   "execution_count": 67,
   "metadata": {},
   "outputs": [
    {
     "name": "stdout",
     "output_type": "stream",
     "text": [
      "[-0.07148323381988086, -0.11458503962748307]\n"
     ]
    }
   ],
   "source": [
    "print(x[itmax])"
   ]
  },
  {
   "cell_type": "markdown",
   "metadata": {},
   "source": [
    "### c) Tracés\n",
    "\n",
    "Tracer sur le même graphe\n",
    "+ les croix\n",
    "+ les cercles\n",
    "+ et la droite séparatrice obtenue."
   ]
  },
  {
   "cell_type": "code",
   "execution_count": 73,
   "metadata": {},
   "outputs": [
    {
     "data": {
      "text/plain": [
       "[<matplotlib.lines.Line2D at 0x2780c610fd0>]"
      ]
     },
     "execution_count": 73,
     "metadata": {},
     "output_type": "execute_result"
    },
    {
     "data": {
      "image/png": "[encoded data removed]",
      "text/plain": [
       "<Figure size 432x288 with 1 Axes>"
      ]
     },
     "metadata": {
      "needs_background": "light"
     },
     "output_type": "display_data"
    }
   ],
   "source": [
    "x1 = -(x[itmax][0]/x[itmax][1]*(-1))\n",
    "x2 = -(x[itmax][0]/x[itmax][1]*(1))\n",
    "\n",
    "plot(xtab[0,pos],xtab[1,pos],'+')\n",
    "plot(xtab[0,neg],xtab[1,neg],'o')\n",
    "plot([-1,x1],[1,x2],'r',lw=2)"
   ]
  },
  {
   "cell_type": "markdown",
   "metadata": {},
   "source": [
    "### d) Faire le tracé de l'évolution de la fonction $f_\\lambda$ au fur et à mesure des itérations."
   ]
  },
  {
   "cell_type": "code",
   "execution_count": 74,
   "metadata": {},
   "outputs": [
    {
     "name": "stdout",
     "output_type": "stream",
     "text": [
      "<built-in method f of mtrand.RandomState object at 0x00000278086AAA20>\n"
     ]
    }
   ],
   "source": [
    "print(f)"
   ]
  }
 ],
 "metadata": {
  "kernelspec": {
   "display_name": "Python 3",
   "language": "python",
   "name": "python3"
  },
  "language_info": {
   "codemirror_mode": {
    "name": "ipython",
    "version": 3
   },
   "file_extension": ".py",
   "mimetype": "text/x-python",
   "name": "python",
   "nbconvert_exporter": "python",
   "pygments_lexer": "ipython3",
   "version": "3.7.3"
  }
 },
 "nbformat": 4,
 "nbformat_minor": 1
}
