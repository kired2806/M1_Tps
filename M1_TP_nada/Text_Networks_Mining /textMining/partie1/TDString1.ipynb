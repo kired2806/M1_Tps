{
 "cells": [
  {
   "cell_type": "code",
   "execution_count": 1,
   "metadata": {},
   "outputs": [],
   "source": [
    "import numpy as np"
   ]
  },
  {
   "cell_type": "markdown",
   "metadata": {},
   "source": [
    "# raw implementation"
   ]
  },
  {
   "cell_type": "code",
   "execution_count": 4,
   "metadata": {},
   "outputs": [],
   "source": [
    "def Levenshteindistance(seq1, seq2):  \n",
    "        size_x = len(seq1) + 1\n",
    "        size_y = len(seq2) + 1\n",
    "        matrix = np.zeros ((size_x, size_y))\n",
    "        for x in range(size_x):\n",
    "            matrix [x, 0] = x\n",
    "        for y in range(size_y):\n",
    "            matrix [0, y] = y\n",
    "\n",
    "        for x in range(1, size_x):\n",
    "            for y in range(1, size_y):\n",
    "                if seq1[x-1] == seq2[y-1]:\n",
    "                    matrix [x,y] = min(\n",
    "                        matrix[x-1, y] + 1,\n",
    "                        matrix[x-1, y-1],\n",
    "                        matrix[x, y-1] + 1\n",
    "                    )\n",
    "                else:\n",
    "                    matrix [x,y] = min(\n",
    "                        matrix[x-1,y] + 1,\n",
    "                        matrix[x-1,y-1] + 1,\n",
    "                        matrix[x,y-1] + 1\n",
    "                    )\n",
    "        return (matrix[size_x - 1, size_y - 1])"
   ]
  },
  {
   "cell_type": "code",
   "execution_count": 5,
   "metadata": {},
   "outputs": [
    {
     "data": {
      "text/plain": [
       "5.0"
      ]
     },
     "execution_count": 5,
     "metadata": {},
     "output_type": "execute_result"
    }
   ],
   "source": [
    "Levenshteindistance(\"INTENTION\",\"EXECUTION\")"
   ]
  },
  {
   "cell_type": "markdown",
   "metadata": {},
   "source": [
    "# jellyfish package"
   ]
  },
  {
   "cell_type": "code",
   "execution_count": 7,
   "metadata": {},
   "outputs": [],
   "source": [
    "import jellyfish"
   ]
  },
  {
   "cell_type": "code",
   "execution_count": 8,
   "metadata": {},
   "outputs": [
    {
     "data": {
      "text/plain": [
       "5"
      ]
     },
     "execution_count": 8,
     "metadata": {},
     "output_type": "execute_result"
    }
   ],
   "source": [
    "jellyfish.levenshtein_distance('INTENTION', 'EXECUTION')"
   ]
  },
  {
   "cell_type": "code",
   "execution_count": 9,
   "metadata": {},
   "outputs": [
    {
     "data": {
      "text/plain": [
       "0.6370370370370371"
      ]
     },
     "execution_count": 9,
     "metadata": {},
     "output_type": "execute_result"
    }
   ],
   "source": [
    "jellyfish.jaro_distance('INTENTION', 'EXECUTION')"
   ]
  },
  {
   "cell_type": "code",
   "execution_count": 10,
   "metadata": {},
   "outputs": [
    {
     "data": {
      "text/plain": [
       "5"
      ]
     },
     "execution_count": 10,
     "metadata": {},
     "output_type": "execute_result"
    }
   ],
   "source": [
    "jellyfish.damerau_levenshtein_distance('INTENTION', 'EXECUTION')"
   ]
  },
  {
   "cell_type": "code",
   "execution_count": 12,
   "metadata": {},
   "outputs": [
    {
     "data": {
      "text/plain": [
       "('INTNXN', 'EKSKXN')"
      ]
     },
     "execution_count": 12,
     "metadata": {},
     "output_type": "execute_result"
    }
   ],
   "source": [
    "jellyfish.metaphone(\"INTENTION\"),jellyfish.metaphone(\"EXECUTION\")"
   ]
  },
  {
   "cell_type": "code",
   "execution_count": 13,
   "metadata": {},
   "outputs": [
    {
     "data": {
      "text/plain": [
       "4"
      ]
     },
     "execution_count": 13,
     "metadata": {},
     "output_type": "execute_result"
    }
   ],
   "source": [
    "jellyfish.levenshtein_distance(jellyfish.metaphone(\"INTENTION\"),jellyfish.metaphone(\"EXECUTION\"))"
   ]
  },
  {
   "cell_type": "markdown",
   "metadata": {},
   "source": [
    "# nltk package"
   ]
  },
  {
   "cell_type": "code",
   "execution_count": 14,
   "metadata": {},
   "outputs": [],
   "source": [
    "from nltk.metrics import *"
   ]
  },
  {
   "cell_type": "code",
   "execution_count": 15,
   "metadata": {},
   "outputs": [
    {
     "data": {
      "text/plain": [
       "5"
      ]
     },
     "execution_count": 15,
     "metadata": {},
     "output_type": "execute_result"
    }
   ],
   "source": [
    "edit_distance(\"INTENTION\", \"EXECUTION\")"
   ]
  },
  {
   "cell_type": "code",
   "execution_count": 21,
   "metadata": {},
   "outputs": [
    {
     "data": {
      "text/plain": [
       "(1.0, 0.375, 0.25125000000000003, 0.0)"
      ]
     },
     "execution_count": 21,
     "metadata": {},
     "output_type": "execute_result"
    }
   ],
   "source": [
    "binary_distance(\"INTENTION\", \"EXECUTION\"),jaccard_distance(set(\"INTENTION\"), set(\"EXECUTION\")),masi_distance(set(\"INTENTION\"), set(\"EXECUTION\")),windowdiff(\"INTENTION\", \"EXECUTION\",1)"
   ]
  },
  {
   "cell_type": "code",
   "execution_count": 22,
   "metadata": {},
   "outputs": [
    {
     "name": "stdout",
     "output_type": "stream",
     "text": [
      "  | C E I N O T U X |\n",
      "--+-----------------+\n",
      "C |<.>. . . . . . . |\n",
      "E | 1<.>. . . . . . |\n",
      "I | . 1<1>. . . . . |\n",
      "N | . . .<1>. . 1 1 |\n",
      "O | . . . .<1>. . . |\n",
      "T | . 1 . . .<1>. . |\n",
      "U | . . . . . .<.>. |\n",
      "X | . . . . . . .<.>|\n",
      "--+-----------------+\n",
      "(row = reference; col = test)\n",
      "\n"
     ]
    }
   ],
   "source": [
    "print(ConfusionMatrix(\"INTENTION\", \"EXECUTION\"))"
   ]
  },
  {
   "cell_type": "code",
   "execution_count": null,
   "metadata": {},
   "outputs": [],
   "source": []
  },
  {
   "cell_type": "markdown",
   "metadata": {},
   "source": [
    "#### Contingency table \n",
    "In the bigram case (n_ii, (n_ix, n_xi), n_xx):"
   ]
  },
  {
   "cell_type": "code",
   "execution_count": 26,
   "metadata": {},
   "outputs": [],
   "source": [
    "#\n",
    "\n",
    "#        w1    ~w1\n",
    "#     ------ ------\n",
    "# w2 | n_ii | n_oi |      = n_xi\n",
    "#     ------ ------\n",
    "#~w2 | n_io | n_oo |\n",
    "#     ------ ------\n",
    "#     = n_ix        TOTAL = n_xx"
   ]
  },
  {
   "cell_type": "code",
   "execution_count": 27,
   "metadata": {},
   "outputs": [],
   "source": [
    "bam = BigramAssocMeasures"
   ]
  },
  {
   "cell_type": "markdown",
   "metadata": {},
   "source": [
    "news occures 15828 times, \n",
    "company occures 4675 times,\n",
    "together they occure 8 times,\n",
    "and there are 14307668 tokens. Calculate the $t$ value assuming that news and company are independent ($t=\\frac{\\overline{x}-\\mu}{\\sqrt{\\frac{s^2}{N}}}$)"
   ]
  },
  {
   "cell_type": "code",
   "execution_count": 28,
   "metadata": {},
   "outputs": [
    {
     "data": {
      "text/plain": [
       "0.9999319894802036"
      ]
     },
     "execution_count": 28,
     "metadata": {},
     "output_type": "execute_result"
    }
   ],
   "source": [
    "bam.student_t(8, (15828, 4675), 14307668)"
   ]
  },
  {
   "cell_type": "markdown",
   "metadata": {},
   "source": [
    "If we fix the critical value equal to 0.005, then it is clear that news and company do not form a collocation!"
   ]
  },
  {
   "cell_type": "code",
   "execution_count": null,
   "metadata": {},
   "outputs": [],
   "source": []
  },
  {
   "cell_type": "code",
   "execution_count": 32,
   "metadata": {},
   "outputs": [
    {
     "data": {
      "text/plain": [
       "4.472122827094311"
      ]
     },
     "execution_count": 32,
     "metadata": {},
     "output_type": "execute_result"
    }
   ],
   "source": [
    "bam.student_t(20, (42, 20), 14307668)"
   ]
  },
  {
   "cell_type": "code",
   "execution_count": null,
   "metadata": {},
   "outputs": [],
   "source": []
  },
  {
   "cell_type": "code",
   "execution_count": null,
   "metadata": {},
   "outputs": [],
   "source": []
  },
  {
   "cell_type": "code",
   "execution_count": 34,
   "metadata": {},
   "outputs": [
    {
     "data": {
      "text/plain": [
       "1.5488692067282201"
      ]
     },
     "execution_count": 34,
     "metadata": {},
     "output_type": "execute_result"
    }
   ],
   "source": [
    "bam.chi_sq(8, (15828, 4675), 14307668)"
   ]
  },
  {
   "cell_type": "code",
   "execution_count": 33,
   "metadata": {},
   "outputs": [
    {
     "data": {
      "text/plain": [
       "456399.76190356724"
      ]
     },
     "execution_count": 33,
     "metadata": {},
     "output_type": "execute_result"
    }
   ],
   "source": [
    "bam.chi_sq(59, (67, 65), 571007)"
   ]
  },
  {
   "cell_type": "markdown",
   "metadata": {},
   "source": []
  },
  {
   "cell_type": "code",
   "execution_count": null,
   "metadata": {},
   "outputs": [],
   "source": []
  }
 ],
 "metadata": {
  "kernelspec": {
   "display_name": "Python 3",
   "language": "python",
   "name": "python3"
  },
  "language_info": {
   "codemirror_mode": {
    "name": "ipython",
    "version": 3
   },
   "file_extension": ".py",
   "mimetype": "text/x-python",
   "name": "python",
   "nbconvert_exporter": "python",
   "pygments_lexer": "ipython3",
   "version": "3.5.2"
  }
 },
 "nbformat": 4,
 "nbformat_minor": 2
}
