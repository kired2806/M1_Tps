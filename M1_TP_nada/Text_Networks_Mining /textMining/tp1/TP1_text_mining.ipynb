{
 "cells": [
  {
   "cell_type": "markdown",
   "metadata": {},
   "source": [
    "# Université Paul Sabatier\n",
    "## \tEMMAB2C1 : Algorithmes de classification, data mining et text mining\n",
    "## Enseignant : José G. Moreno\n",
    "## Étudiant : \n",
    "## 01/2020"
   ]
  },
  {
   "cell_type": "markdown",
   "metadata": {},
   "source": [
    "### TP 1. Pré-traitement\n",
    " \n",
    "Dans ce TP nous allons appliquer quelques méthodes du prétraitement sur une collection de news. Particulièrement sur le 1000 et le 25000 premier documents de la collection « The Signal Media One-Million News Articles Dataset » qui sont disponibles sur moodle. Si vous voulez télécharger la collection complète, elle est disponible sur http://research.signalmedia.co/newsir16/signal-dataset.html \n",
    "\n",
    "1. Téléchargez les deux fichiers signalnews disponibles sur moodle.\n",
    "\n",
    "2. Téléchargez le code associé à ce TP.\n",
    "\n",
    "3. En utilisant le code, visualisez le contenu de quelques documents."
   ]
  },
  {
   "cell_type": "code",
   "execution_count": 6,
   "metadata": {},
   "outputs": [],
   "source": [
    "import gzip\n",
    "import json"
   ]
  },
  {
   "cell_type": "code",
   "execution_count": 7,
   "metadata": {},
   "outputs": [],
   "source": [
    "workpath = './'\n",
    "f=gzip.open(workpath+'signalmedia-1k.jsonl.gz','rb')\n",
    "docs=[json.loads(s.decode('utf-8')) for s in f.readlines()]"
   ]
  },
  {
   "cell_type": "markdown",
   "metadata": {},
   "source": [
    "Notez que gzip nous permet de lire des fichier compressés en format `gz`. Le paramètre `rb` permet de lire un fichier binaire (car il est compressé, r = read et b = binary).\n",
    "La deuxième ligne du code permet de parcourir toutes les lignes sur le fichier et les décoder en format utf8. De plus, chaque ligne est interprétée comme un objet json."
   ]
  },
  {
   "cell_type": "markdown",
   "metadata": {},
   "source": [
    "Regardons le contenue de la variable `docs`:"
   ]
  },
  {
   "cell_type": "code",
   "execution_count": 8,
   "metadata": {},
   "outputs": [
    {
     "data": {
      "text/plain": [
       "[{'content': 'VETERANS saluted Worcester\\'s first ever breakfast club for ex-soldiers which won over hearts, minds and bellies. \\n \\nThe Worcester Breakfast Club for HM Forces Veterans met at the Postal Order in Foregate Street at 10am on Saturday. \\n \\nThe club is designed to allow veterans a place to meet, socialise, eat and drink, giving hunger and loneliness their marching orders. \\n \\nFather-of-two Dave Carney, aged 43, of Merrimans Hill, Worcester, set up the club after being inspired by other similar clubs across the country. \\n \\nHe said: \"As you can see from the picture, we had a good response. Five out of the 10 that attended said they saw the article in the newspaper and turned up. \\n \\n\"We even had an old chap travel from Droitwich and he was late on parade by three hours. \\n \\n\"It\\'s generated a lot of interest and I estimate (from other veterans who saw the article) that next month\\'s meeting will attract about 20 people. Onwards and upwards.\" \\n \\nHe said the management at the pub had been extremely hospitable to them. \\n \\nMr Carney said: \"They bent over backwards for us. They really looked after us well. That is the best choice of venue I could have made. They even put \\'reserved for the armed forces\\'. \\n   Promoted stories   \\nThe reserve veteran with the Royal Engineers wanted to go to a breakfast club but found the nearest ones were in Bromsgrove and Gloucester so he decided to set up his own, closer to home. \\n \\nHe was influenced by Derek Hardman who set up a breakfast club for veterans in Hull and Andy Wilson who set one up in Newcastle. He said the idea has snowballed and there were now 70 similar clubs across the country and even some in Germany. \\n \\nMr Carney said with many Royal British Legion clubs closing he wanted veterans and serving personnel to feel they had somewhere they could go for good grub, beer and banter to recapture the comradery of being in the forces. \\n \\nThe Postal Order was chosen because of its central location and its proximity to the railway station and hotels and reasonably priced food and drink. \\n \\nThe management of the pub have even given the veterans a designated area within the pub. \\n   \\n Share article  \\n   \\nThe next meeting is at the Postal Order on Saturday, October 3 at 10am. \\n \\nThe breakfast club meets on the first Saturday of each month for those who want to attend in future.',\n",
       "  'id': 'f7ca322d-c3e8-40d2-841f-9d7250ac72ca',\n",
       "  'media-type': 'News',\n",
       "  'published': '2015-09-07T10:16:14Z',\n",
       "  'source': 'Redditch Advertiser',\n",
       "  'title': 'Worcester breakfast club for veterans gives hunger its marching orders'},\n",
       " {'content': 'New Product Gives Marketers Access to Real Keywords, Conversions and Results Along With 13 Months of Historical Data \\n\\nSAN FRANCISCO, CA -- (Marketwired) -- 09/17/15 -- Jumpshot, a marketing analytics company that uses distinctive data sources to paint a complete picture of the online customer journey, today announced the launch of Jumpshot Elite, giving marketers insight into what their customers are doing the 99% of the time they\\'re not on your site. For years, marketers have been unable to see what organic and paid search terms users were entering, much less tie those searches to purchases. Jumpshot not only injects that user search visibility back into the market, but also makes it possible to tie those keywords to conversions -- for any web site. \\n\\n\"Ever since search engines encrypted search results, marketers have been in the dark about keywords, impacting not only the insight into their own search investments, but also their ability to unearth high converting keywords for their competitors,\" said Deren Baker, CEO of Jumpshot. \"Our platform eliminates the hacks, assumptions, and guesswork that marketers are doing now and provides real data: actual searches tied to actual conversions conducted by real people with nothing inferred.\" \\n\\nUnlike other keyword research tools that receive data through the Adwords API or send bots to cobble together various data inputs and implied metrics, Jumpshot leverages its panel of over 115 million global consumers to analyze real search activity. As a result, Jumpshot is able to provide companies with actionable data to improve the ROI of their search marketing campaigns, SEO tactics and content marketing initiatives. \\n\\nAvailable today, Jumpshot Elite provides 13 months of backward-looking data as well as: \\n\\nAccess to real queries used by searchers \\n\\nPaid and organic results for any website \\n\\nVisibility into organic keywords, eliminating the \"not provided\" outcome in web analytics \\n\\nReal user queries, clicks and transactions instead of machine-generated clicks with inferred results \\n\\nAbility to tie keywords to real transactions on any website \\n\\nVariable attribution models and lookback windows \\n\\nLaunched in January, 2015, Jumpshot grew out of the ambitions of a group of smart marketers and data scientists who were frustrated about the limitations of the data they had access to, and excited about the opportunity to provide new insights into online behavior. \\n\\nThe company uses distinctive data sources to paint a complete picture of the online world for businesses, from where customers spend time online to what they do there and how they get from place to place. By tracking the online customer journey down to each click, Jumpshot reveals how and why customers arrive at purchase decisions. The company tracks more data in more detail than other services, tracking 160 billion monthly clicks generated by its extensive data panel. \\n\\nAbout Jumpshot \\n\\nJumpshot is a marketing analytics platform that reveals the entire customer journey -- from the key sources of traffic to a site, to browsing and buying behavior on any domain. With a panel of 115 million users, Jumpshot provides marketers with the insight to understand what their customers are doing the 99% of the time they\\'re not on their own site -- a scope of information never before attainable. Jumpshot was founded in 2015 and is headquartered in San Francisco. \\n\\nFor more information, please visit www.jumpshot.com. \\n\\nImage Available: http://www2.marketwire.com/mw/frame_mw?attachid=2889222 \\n\\nKelly Mayes \\n\\nThe Bulleit Group \\n\\n615-200-8845 \\n\\nPublished Sep. 17, 2015 \\n\\nCopyright © 2015 SYS-CON Media, Inc. — All Rights Reserved. \\n\\nSyndicated stories and blog feeds, all rights reserved by the author.',\n",
       "  'id': '609772bc-0672-4db5-8516-4c025cfd54ca',\n",
       "  'media-type': 'News',\n",
       "  'published': '2015-09-17T15:00:00Z',\n",
       "  'source': 'Virtualization Conference & Expo',\n",
       "  'title': 'Jumpshot Gives Marketers Renewed Visibility Into Paid and Organic Keywords With Launch of Jumpshot Elite'}]"
      ]
     },
     "execution_count": 8,
     "metadata": {},
     "output_type": "execute_result"
    }
   ],
   "source": [
    "docs[:2]"
   ]
  },
  {
   "cell_type": "markdown",
   "metadata": {},
   "source": [
    "---\n",
    "Notez que après avoir interprétée chaque ligne comme un document json, plusieurs champs sont accessibles. Voici la liste de champs de chaque document :\n",
    "    * content : Le contenu de l’article\n",
    "    * id : l’identifiant unique de l’article\n",
    "    * media-type : le type d’article\n",
    "    * published : la date de publication\n",
    "    * source : l’éditorial de l’article\n",
    "    * title : le titre de l’article"
   ]
  },
  {
   "cell_type": "markdown",
   "metadata": {},
   "source": [
    "### Maintenant c’est à vous !"
   ]
  },
  {
   "cell_type": "markdown",
   "metadata": {},
   "source": [
    "**(1)** Implémentez une fonction pour nettoyer le contenu des articles. Enlevez les ponctuations, les caractères spéciaux, changez les texte en minuscule, etc. "
   ]
  },
  {
   "cell_type": "code",
   "execution_count": null,
   "metadata": {},
   "outputs": [],
   "source": []
  },
  {
   "cell_type": "markdown",
   "metadata": {},
   "source": [
    "**(2)** Utilisez le code sur moodle pour calculer l’IDF. Notez que dans l’exemple 'apple' et \"apple's\" sont considérés des mots différents. Vérifiez qu'après le nettoyage, votre code n’a pas ce problème."
   ]
  },
  {
   "cell_type": "code",
   "execution_count": null,
   "metadata": {},
   "outputs": [],
   "source": []
  },
  {
   "cell_type": "markdown",
   "metadata": {},
   "source": [
    "**(3)** Calculez le TF, IDF et TF-IDF dépendant de la date de publication et affichez l’évolution dans le temps pour certains (à votre choix) mots de la collection. Il y a-t-il des différences importantes ? Pouvez-vous trouver une explication aux différences ?"
   ]
  },
  {
   "cell_type": "code",
   "execution_count": null,
   "metadata": {},
   "outputs": [],
   "source": []
  },
  {
   "cell_type": "markdown",
   "metadata": {},
   "source": [
    "**(4)** Choisissez une méthode pour représenter des mots dans un espace vectoriel et implémentez les fonctions nécessaires pour pour traiter tous les documents. Avec votre code, répondez à la question : est-il vrai que les mots dog et cat sont fréquemment dans le même contexte ?"
   ]
  },
  {
   "cell_type": "code",
   "execution_count": null,
   "metadata": {},
   "outputs": [],
   "source": []
  },
  {
   "cell_type": "markdown",
   "metadata": {},
   "source": [
    "**(5)** Téléchargez le code disponible sur https://github.com/prateekkrjain/newsapi_word_cloud . Modifiez la fonction `word_cloud` du fichier `news_word_cloud.py` pour utiliser le contenu du fichier signalnews1k (variable `sentences` ci-dessous)"
   ]
  },
  {
   "cell_type": "code",
   "execution_count": 14,
   "metadata": {},
   "outputs": [],
   "source": [
    "sentences = \"\"\n",
    "for news in docs:\n",
    "    description = news['content']\n",
    "    sentences = sentences + \" \" + description"
   ]
  },
  {
   "cell_type": "markdown",
   "metadata": {},
   "source": [
    "Utilisez le code des point 1, 2 et 3 pour calculer des valeurs TF-IDF pour le 2015/09/10 et gardez les 100 premiers mots avec les plus grandes valeurs. Sur une console exécutez le code en utilisant  `python3 news_word_cloud.py`. Ouvrez un navigateur et insérez l’adresse URL qui s’affiche. Sur le navigateur vous verrez un nuage de mots pour la date en question."
   ]
  },
  {
   "cell_type": "code",
   "execution_count": null,
   "metadata": {},
   "outputs": [],
   "source": []
  }
 ],
 "metadata": {
  "kernelspec": {
   "display_name": "Python 3",
   "language": "python",
   "name": "python3"
  },
  "language_info": {
   "codemirror_mode": {
    "name": "ipython",
    "version": 3
   },
   "file_extension": ".py",
   "mimetype": "text/x-python",
   "name": "python",
   "nbconvert_exporter": "python",
   "pygments_lexer": "ipython3",
   "version": "3.5.2"
  }
 },
 "nbformat": 4,
 "nbformat_minor": 2
}
